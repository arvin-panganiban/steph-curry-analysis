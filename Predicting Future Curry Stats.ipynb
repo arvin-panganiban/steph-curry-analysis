{
 "cells": [
  {
   "cell_type": "code",
   "execution_count": 295,
   "id": "139cf5ea",
   "metadata": {},
   "outputs": [],
   "source": [
    "import pandas as pd\n",
    "import numpy as np\n",
    "import requests\n",
    "from nba_api.stats.endpoints import playergamelog"
   ]
  },
  {
   "cell_type": "code",
   "execution_count": 296,
   "id": "d1b45811",
   "metadata": {},
   "outputs": [],
   "source": [
    "curry = pd.DataFrame()\n",
    "player_stats = playergamelog.PlayerGameLog(player_id='201939')\n",
    "curry2022 = player_stats.player_game_log.get_data_frame()\n",
    "seasons = ['2009','2010','2011','2012','2013','2014','2015','2016','2017','2018','2019','2020','2021','2022']"
   ]
  },
  {
   "cell_type": "code",
   "execution_count": 297,
   "id": "ed43e3fd",
   "metadata": {},
   "outputs": [],
   "source": [
    "for x in seasons:\n",
    "    #pull player stats into dataframe\n",
    "    player_stats = playergamelog.PlayerGameLog(player_id='201939', season=x, season_type_all_star='Regular Season')    \n",
    "    df = player_stats.player_game_log.get_data_frame()\n",
    "    \n",
    "    #append to curry if dataframe has enough sample size (looking for >(82*45% = 36.9) games played that season)\n",
    "    if len(df.index) > 36.9:\n",
    "        curry = pd.concat([curry, df], ignore_index=True)"
   ]
  },
  {
   "cell_type": "code",
   "execution_count": 298,
   "id": "b9e6ba97",
   "metadata": {},
   "outputs": [],
   "source": [
    "drop_columns = ['SEASON_ID','Player_ID','Game_ID','GAME_DATE','WL','MATCHUP','VIDEO_AVAILABLE',\n",
    "                'FG_PCT','FG3_PCT','FT_PCT','REB','MIN']\n",
    "curry = curry.drop(drop_columns, axis=1)\n",
    "curry2022 = curry2022.drop(drop_columns, axis=1)"
   ]
  },
  {
   "cell_type": "code",
   "execution_count": 299,
   "id": "fe92de00",
   "metadata": {
    "scrolled": false
   },
   "outputs": [],
   "source": [
    "curry2022.loc['mean'] = curry2022.head(20).mean()\n",
    "avg = curry2022.tail(1)"
   ]
  },
  {
   "cell_type": "code",
   "execution_count": 300,
   "id": "237116de",
   "metadata": {},
   "outputs": [
    {
     "name": "stdout",
     "output_type": "stream",
     "text": [
      "Accuracy on Test:  1.0\n",
      "MAE:  7.204903340607416e-15\n",
      "Accuracy on Test:  0.07077479861498104\n",
      "MAE:  2.192429676281503\n",
      "Accuracy on Test:  0.006430665766554822\n",
      "MAE:  0.6770687167756316\n",
      "Accuracy on Test:  0.07639073041547884\n",
      "MAE:  1.709087063826816\n"
     ]
    }
   ],
   "source": [
    "from sklearn.linear_model import LinearRegression\n",
    "from sklearn.model_selection import train_test_split\n",
    "from sklearn.metrics import mean_absolute_error\n",
    "\n",
    "y_pred = pd.DataFrame()\n",
    "pred_columns = ['PTS','AST','OREB', 'DREB']\n",
    "for x in pred_columns:\n",
    "    X = curry.loc[:, curry.columns != x]\n",
    "    y = curry[x]\n",
    "    X_train, X_test, y_train, y_test = train_test_split(X, y, test_size=0.3)\n",
    "    \n",
    "    lr = LinearRegression()\n",
    "    lr.fit(X_train, y_train)\n",
    "    print(\"Accuracy on Test: \", lr.score(X_test, y_test))\n",
    "    \n",
    "    y_error = lr.predict(X_test)\n",
    "    print(\"MAE: \", mean_absolute_error(y_true=y_test, y_pred=y_error))\n",
    "    \n",
    "    y_pred[x] = lr.predict(avg.loc[:, avg.columns != x])"
   ]
  },
  {
   "cell_type": "code",
   "execution_count": 301,
   "id": "3fa73d2c",
   "metadata": {},
   "outputs": [
    {
     "data": {
      "text/html": [
       "<div>\n",
       "<style scoped>\n",
       "    .dataframe tbody tr th:only-of-type {\n",
       "        vertical-align: middle;\n",
       "    }\n",
       "\n",
       "    .dataframe tbody tr th {\n",
       "        vertical-align: top;\n",
       "    }\n",
       "\n",
       "    .dataframe thead th {\n",
       "        text-align: right;\n",
       "    }\n",
       "</style>\n",
       "<table border=\"1\" class=\"dataframe\">\n",
       "  <thead>\n",
       "    <tr style=\"text-align: right;\">\n",
       "      <th></th>\n",
       "      <th>PTS</th>\n",
       "      <th>AST</th>\n",
       "      <th>OREB</th>\n",
       "      <th>DREB</th>\n",
       "    </tr>\n",
       "  </thead>\n",
       "  <tbody>\n",
       "    <tr>\n",
       "      <th>0</th>\n",
       "      <td>27.4</td>\n",
       "      <td>5.936149</td>\n",
       "      <td>0.585113</td>\n",
       "      <td>4.303346</td>\n",
       "    </tr>\n",
       "  </tbody>\n",
       "</table>\n",
       "</div>"
      ],
      "text/plain": [
       "    PTS       AST      OREB      DREB\n",
       "0  27.4  5.936149  0.585113  4.303346"
      ]
     },
     "execution_count": 301,
     "metadata": {},
     "output_type": "execute_result"
    }
   ],
   "source": [
    "y_pred"
   ]
  },
  {
   "cell_type": "markdown",
   "id": "91150ae2",
   "metadata": {},
   "source": [
    "# Since accuracy on stats is very low, WIP on finding features that will help increase accuracy"
   ]
  },
  {
   "cell_type": "code",
   "execution_count": null,
   "id": "a8e8a53a",
   "metadata": {},
   "outputs": [],
   "source": []
  }
 ],
 "metadata": {
  "kernelspec": {
   "display_name": "Python 3 (ipykernel)",
   "language": "python",
   "name": "python3"
  },
  "language_info": {
   "codemirror_mode": {
    "name": "ipython",
    "version": 3
   },
   "file_extension": ".py",
   "mimetype": "text/x-python",
   "name": "python",
   "nbconvert_exporter": "python",
   "pygments_lexer": "ipython3",
   "version": "3.9.16"
  }
 },
 "nbformat": 4,
 "nbformat_minor": 5
}
