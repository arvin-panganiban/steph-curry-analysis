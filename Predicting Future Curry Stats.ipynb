{
 "cells": [
  {
   "cell_type": "markdown",
   "id": "491301ee",
   "metadata": {},
   "source": [
    "# How many points will Stephen Curry get?"
   ]
  },
  {
   "cell_type": "code",
   "execution_count": 1,
   "id": "886092d5",
   "metadata": {},
   "outputs": [],
   "source": [
    "library(DBI)\n",
    "library(RPostgres)"
   ]
  },
  {
   "cell_type": "code",
   "execution_count": 2,
   "id": "482e883e",
   "metadata": {},
   "outputs": [],
   "source": [
    "dsn_database = \"curry\" \n",
    "dsn_hostname = \"localhost\"  \n",
    "dsn_port = \"5432\"\n",
    "dsn_uid = \"postgres\"\n",
    "dsn_pwd = \"friendlyfire510!\""
   ]
  },
  {
   "cell_type": "code",
   "execution_count": 3,
   "id": "a0b01dce",
   "metadata": {},
   "outputs": [
    {
     "name": "stdout",
     "output_type": "stream",
     "text": [
      "[1] \"Connecting to Database…\"\n",
      "[1] \"Database Connected!\"\n"
     ]
    }
   ],
   "source": [
    "tryCatch({\n",
    "    print(\"Connecting to Database…\")\n",
    "    con <- dbConnect(RPostgres::Postgres(),dbname = dsn_database, \n",
    "                 host = dsn_hostname,\n",
    "                 port = 5432,\n",
    "                 user = dsn_uid,\n",
    "                 password = dsn_pwd)\n",
    "    print(\"Database Connected!\")\n",
    "    },\n",
    "    error=function(cond) {\n",
    "            print(\"Unable to connect to Database.\")\n",
    "    })"
   ]
  },
  {
   "cell_type": "code",
   "execution_count": 4,
   "id": "a63979e0",
   "metadata": {},
   "outputs": [
    {
     "data": {
      "text/html": [
       "<style>\n",
       ".list-inline {list-style: none; margin:0; padding: 0}\n",
       ".list-inline>li {display: inline-block}\n",
       ".list-inline>li:not(:last-child)::after {content: \"\\00b7\"; padding: 0 .5ex}\n",
       "</style>\n",
       "<ol class=list-inline><li>'season_2020'</li><li>'season_2021'</li><li>'season_2022'</li><li>'season_2009'</li><li>'season_2010'</li><li>'season_2011'</li><li>'season_2012'</li><li>'season_2013'</li><li>'season_2014'</li><li>'season_2015'</li><li>'season_2016'</li><li>'season_2017'</li><li>'season_2018'</li><li>'season_2019'</li></ol>\n"
      ],
      "text/latex": [
       "\\begin{enumerate*}\n",
       "\\item 'season\\_2020'\n",
       "\\item 'season\\_2021'\n",
       "\\item 'season\\_2022'\n",
       "\\item 'season\\_2009'\n",
       "\\item 'season\\_2010'\n",
       "\\item 'season\\_2011'\n",
       "\\item 'season\\_2012'\n",
       "\\item 'season\\_2013'\n",
       "\\item 'season\\_2014'\n",
       "\\item 'season\\_2015'\n",
       "\\item 'season\\_2016'\n",
       "\\item 'season\\_2017'\n",
       "\\item 'season\\_2018'\n",
       "\\item 'season\\_2019'\n",
       "\\end{enumerate*}\n"
      ],
      "text/markdown": [
       "1. 'season_2020'\n",
       "2. 'season_2021'\n",
       "3. 'season_2022'\n",
       "4. 'season_2009'\n",
       "5. 'season_2010'\n",
       "6. 'season_2011'\n",
       "7. 'season_2012'\n",
       "8. 'season_2013'\n",
       "9. 'season_2014'\n",
       "10. 'season_2015'\n",
       "11. 'season_2016'\n",
       "12. 'season_2017'\n",
       "13. 'season_2018'\n",
       "14. 'season_2019'\n",
       "\n",
       "\n"
      ],
      "text/plain": [
       " [1] \"season_2020\" \"season_2021\" \"season_2022\" \"season_2009\" \"season_2010\"\n",
       " [6] \"season_2011\" \"season_2012\" \"season_2013\" \"season_2014\" \"season_2015\"\n",
       "[11] \"season_2016\" \"season_2017\" \"season_2018\" \"season_2019\""
      ]
     },
     "metadata": {},
     "output_type": "display_data"
    }
   ],
   "source": [
    "tables <- dbListTables(con)\n",
    "tables"
   ]
  },
  {
   "cell_type": "code",
   "execution_count": 5,
   "id": "afca68ee",
   "metadata": {},
   "outputs": [
    {
     "data": {
      "text/html": [
       "<table class=\"dataframe\">\n",
       "<caption>A data.frame: 5 × 28</caption>\n",
       "<thead>\n",
       "\t<tr><th scope=col>index</th><th scope=col>SEASON_ID</th><th scope=col>Player_ID</th><th scope=col>Game_ID</th><th scope=col>GAME_DATE</th><th scope=col>MATCHUP</th><th scope=col>WL</th><th scope=col>MIN</th><th scope=col>FGM</th><th scope=col>FGA</th><th scope=col>...</th><th scope=col>DREB</th><th scope=col>REB</th><th scope=col>AST</th><th scope=col>STL</th><th scope=col>BLK</th><th scope=col>TOV</th><th scope=col>PF</th><th scope=col>PTS</th><th scope=col>PLUS_MINUS</th><th scope=col>VIDEO_AVAILABLE</th></tr>\n",
       "\t<tr><th scope=col>&lt;int64&gt;</th><th scope=col>&lt;chr&gt;</th><th scope=col>&lt;int64&gt;</th><th scope=col>&lt;chr&gt;</th><th scope=col>&lt;chr&gt;</th><th scope=col>&lt;chr&gt;</th><th scope=col>&lt;chr&gt;</th><th scope=col>&lt;int64&gt;</th><th scope=col>&lt;int64&gt;</th><th scope=col>&lt;int64&gt;</th><th scope=col>...</th><th scope=col>&lt;int64&gt;</th><th scope=col>&lt;int64&gt;</th><th scope=col>&lt;int64&gt;</th><th scope=col>&lt;int64&gt;</th><th scope=col>&lt;int64&gt;</th><th scope=col>&lt;int64&gt;</th><th scope=col>&lt;int64&gt;</th><th scope=col>&lt;int64&gt;</th><th scope=col>&lt;int64&gt;</th><th scope=col>&lt;int64&gt;</th></tr>\n",
       "</thead>\n",
       "<tbody>\n",
       "\t<tr><td>0</td><td>22019</td><td>201939</td><td>0021900929</td><td>MAR 05, 2020</td><td>GSW vs. TOR</td><td>L</td><td>27</td><td>6</td><td>16</td><td>...</td><td>6</td><td>6</td><td> 7</td><td>0</td><td>0</td><td>1</td><td>1</td><td>23</td><td>-13</td><td>1</td></tr>\n",
       "\t<tr><td>1</td><td>22019</td><td>201939</td><td>0021900065</td><td>OCT 30, 2019</td><td>GSW vs. PHX</td><td>L</td><td>21</td><td>3</td><td>11</td><td>...</td><td>5</td><td>5</td><td> 6</td><td>1</td><td>2</td><td>4</td><td>2</td><td> 9</td><td>-13</td><td>2</td></tr>\n",
       "\t<tr><td>2</td><td>22019</td><td>201939</td><td>0021900047</td><td>OCT 28, 2019</td><td>GSW @ NOP  </td><td>W</td><td>31</td><td>9</td><td>17</td><td>...</td><td>2</td><td>3</td><td>11</td><td>3</td><td>0</td><td>1</td><td>5</td><td>26</td><td> 32</td><td>1</td></tr>\n",
       "\t<tr><td>3</td><td>22019</td><td>201939</td><td>0021900036</td><td>OCT 27, 2019</td><td>GSW @ OKC  </td><td>L</td><td>30</td><td>7</td><td>18</td><td>...</td><td>6</td><td>8</td><td> 5</td><td>0</td><td>0</td><td>2</td><td>0</td><td>23</td><td>-30</td><td>1</td></tr>\n",
       "\t<tr><td>4</td><td>22019</td><td>201939</td><td>0021900016</td><td>OCT 24, 2019</td><td>GSW vs. LAC</td><td>L</td><td>30</td><td>8</td><td>20</td><td>...</td><td>3</td><td>4</td><td> 4</td><td>1</td><td>0</td><td>8</td><td>3</td><td>23</td><td>-19</td><td>1</td></tr>\n",
       "</tbody>\n",
       "</table>\n"
      ],
      "text/latex": [
       "A data.frame: 5 × 28\n",
       "\\begin{tabular}{lllllllllllllllllllll}\n",
       " index & SEASON\\_ID & Player\\_ID & Game\\_ID & GAME\\_DATE & MATCHUP & WL & MIN & FGM & FGA & ... & DREB & REB & AST & STL & BLK & TOV & PF & PTS & PLUS\\_MINUS & VIDEO\\_AVAILABLE\\\\\n",
       " <int64> & <chr> & <int64> & <chr> & <chr> & <chr> & <chr> & <int64> & <int64> & <int64> & ... & <int64> & <int64> & <int64> & <int64> & <int64> & <int64> & <int64> & <int64> & <int64> & <int64>\\\\\n",
       "\\hline\n",
       "\t 0 & 22019 & 201939 & 0021900929 & MAR 05, 2020 & GSW vs. TOR & L & 27 & 6 & 16 & ... & 6 & 6 &  7 & 0 & 0 & 1 & 1 & 23 & -13 & 1\\\\\n",
       "\t 1 & 22019 & 201939 & 0021900065 & OCT 30, 2019 & GSW vs. PHX & L & 21 & 3 & 11 & ... & 5 & 5 &  6 & 1 & 2 & 4 & 2 &  9 & -13 & 2\\\\\n",
       "\t 2 & 22019 & 201939 & 0021900047 & OCT 28, 2019 & GSW @ NOP   & W & 31 & 9 & 17 & ... & 2 & 3 & 11 & 3 & 0 & 1 & 5 & 26 &  32 & 1\\\\\n",
       "\t 3 & 22019 & 201939 & 0021900036 & OCT 27, 2019 & GSW @ OKC   & L & 30 & 7 & 18 & ... & 6 & 8 &  5 & 0 & 0 & 2 & 0 & 23 & -30 & 1\\\\\n",
       "\t 4 & 22019 & 201939 & 0021900016 & OCT 24, 2019 & GSW vs. LAC & L & 30 & 8 & 20 & ... & 3 & 4 &  4 & 1 & 0 & 8 & 3 & 23 & -19 & 1\\\\\n",
       "\\end{tabular}\n"
      ],
      "text/markdown": [
       "\n",
       "A data.frame: 5 × 28\n",
       "\n",
       "| index &lt;int64&gt; | SEASON_ID &lt;chr&gt; | Player_ID &lt;int64&gt; | Game_ID &lt;chr&gt; | GAME_DATE &lt;chr&gt; | MATCHUP &lt;chr&gt; | WL &lt;chr&gt; | MIN &lt;int64&gt; | FGM &lt;int64&gt; | FGA &lt;int64&gt; | ... ... | DREB &lt;int64&gt; | REB &lt;int64&gt; | AST &lt;int64&gt; | STL &lt;int64&gt; | BLK &lt;int64&gt; | TOV &lt;int64&gt; | PF &lt;int64&gt; | PTS &lt;int64&gt; | PLUS_MINUS &lt;int64&gt; | VIDEO_AVAILABLE &lt;int64&gt; |\n",
       "|---|---|---|---|---|---|---|---|---|---|---|---|---|---|---|---|---|---|---|---|---|\n",
       "| 0 | 22019 | 201939 | 0021900929 | MAR 05, 2020 | GSW vs. TOR | L | 27 | 6 | 16 | ... | 6 | 6 |  7 | 0 | 0 | 1 | 1 | 23 | -13 | 1 |\n",
       "| 1 | 22019 | 201939 | 0021900065 | OCT 30, 2019 | GSW vs. PHX | L | 21 | 3 | 11 | ... | 5 | 5 |  6 | 1 | 2 | 4 | 2 |  9 | -13 | 2 |\n",
       "| 2 | 22019 | 201939 | 0021900047 | OCT 28, 2019 | GSW @ NOP   | W | 31 | 9 | 17 | ... | 2 | 3 | 11 | 3 | 0 | 1 | 5 | 26 |  32 | 1 |\n",
       "| 3 | 22019 | 201939 | 0021900036 | OCT 27, 2019 | GSW @ OKC   | L | 30 | 7 | 18 | ... | 6 | 8 |  5 | 0 | 0 | 2 | 0 | 23 | -30 | 1 |\n",
       "| 4 | 22019 | 201939 | 0021900016 | OCT 24, 2019 | GSW vs. LAC | L | 30 | 8 | 20 | ... | 3 | 4 |  4 | 1 | 0 | 8 | 3 | 23 | -19 | 1 |\n",
       "\n"
      ],
      "text/plain": [
       "  index SEASON_ID Player_ID Game_ID    GAME_DATE    MATCHUP     WL MIN FGM FGA\n",
       "1 0     22019     201939    0021900929 MAR 05, 2020 GSW vs. TOR L  27  6   16 \n",
       "2 1     22019     201939    0021900065 OCT 30, 2019 GSW vs. PHX L  21  3   11 \n",
       "3 2     22019     201939    0021900047 OCT 28, 2019 GSW @ NOP   W  31  9   17 \n",
       "4 3     22019     201939    0021900036 OCT 27, 2019 GSW @ OKC   L  30  7   18 \n",
       "5 4     22019     201939    0021900016 OCT 24, 2019 GSW vs. LAC L  30  8   20 \n",
       "  ... DREB REB AST STL BLK TOV PF PTS PLUS_MINUS VIDEO_AVAILABLE\n",
       "1 ... 6    6    7  0   0   1   1  23  -13        1              \n",
       "2 ... 5    5    6  1   2   4   2   9  -13        2              \n",
       "3 ... 2    3   11  3   0   1   5  26   32        1              \n",
       "4 ... 6    8    5  0   0   2   0  23  -30        1              \n",
       "5 ... 3    4    4  1   0   8   3  23  -19        1              "
      ]
     },
     "metadata": {},
     "output_type": "display_data"
    }
   ],
   "source": [
    "dbReadTable(con, 'season_2019')"
   ]
  },
  {
   "cell_type": "markdown",
   "id": "58e8e07d",
   "metadata": {},
   "source": [
    "### Obtaining the Tables\n",
    "We will be using the available games, thus we would need to union all the tables and set it as a dataframe."
   ]
  },
  {
   "cell_type": "code",
   "execution_count": 85,
   "id": "b3a5da5a",
   "metadata": {},
   "outputs": [],
   "source": [
    "query <- ''\n",
    "for (x in tables){\n",
    "    query <- paste(query, 'SELECT \"MIN\", \"FGA\", \"FTA\", \"REB\", \"AST\", \"STL\", \"PTS\" FROM', x)\n",
    "    if (x != tail(tables, 1)){\n",
    "        query <- paste(query, 'UNION ALL')\n",
    "    }\n",
    "}"
   ]
  },
  {
   "cell_type": "code",
   "execution_count": 86,
   "id": "2b707232",
   "metadata": {},
   "outputs": [],
   "source": [
    "all_games <- dbGetQuery(con, query)\n",
    "all_games$MIN <- as.integer(all_games$MIN)\n",
    "all_games$FGA <- as.integer(all_games$FGA)\n",
    "all_games$FTA <- as.integer(all_games$FTA)\n",
    "all_games$REB <- as.integer(all_games$REB)\n",
    "all_games$AST <- as.integer(all_games$AST)\n",
    "all_games$STL <- as.integer(all_games$STL)\n",
    "all_games$PTS <- as.integer(all_games$PTS)"
   ]
  },
  {
   "cell_type": "code",
   "execution_count": 87,
   "id": "7eabefa9",
   "metadata": {},
   "outputs": [
    {
     "data": {
      "text/html": [
       "<table class=\"dataframe\">\n",
       "<caption>A data.frame: 6 × 7</caption>\n",
       "<thead>\n",
       "\t<tr><th></th><th scope=col>MIN</th><th scope=col>FGA</th><th scope=col>FTA</th><th scope=col>REB</th><th scope=col>AST</th><th scope=col>STL</th><th scope=col>PTS</th></tr>\n",
       "\t<tr><th></th><th scope=col>&lt;int&gt;</th><th scope=col>&lt;int&gt;</th><th scope=col>&lt;int&gt;</th><th scope=col>&lt;int&gt;</th><th scope=col>&lt;int&gt;</th><th scope=col>&lt;int&gt;</th><th scope=col>&lt;int&gt;</th></tr>\n",
       "</thead>\n",
       "<tbody>\n",
       "\t<tr><th scope=row>1</th><td>40</td><td>36</td><td> 6</td><td>7</td><td>9</td><td>1</td><td>46</td></tr>\n",
       "\t<tr><th scope=row>2</th><td>37</td><td>22</td><td> 6</td><td>3</td><td>6</td><td>1</td><td>21</td></tr>\n",
       "\t<tr><th scope=row>3</th><td>37</td><td>25</td><td>12</td><td>4</td><td>6</td><td>2</td><td>36</td></tr>\n",
       "\t<tr><th scope=row>4</th><td>29</td><td>26</td><td>10</td><td>5</td><td>2</td><td>1</td><td>49</td></tr>\n",
       "\t<tr><th scope=row>5</th><td>31</td><td>21</td><td> 7</td><td>4</td><td>7</td><td>1</td><td>34</td></tr>\n",
       "\t<tr><th scope=row>6</th><td>37</td><td>31</td><td> 3</td><td>9</td><td>2</td><td>3</td><td>37</td></tr>\n",
       "</tbody>\n",
       "</table>\n"
      ],
      "text/latex": [
       "A data.frame: 6 × 7\n",
       "\\begin{tabular}{r|lllllll}\n",
       "  & MIN & FGA & FTA & REB & AST & STL & PTS\\\\\n",
       "  & <int> & <int> & <int> & <int> & <int> & <int> & <int>\\\\\n",
       "\\hline\n",
       "\t1 & 40 & 36 &  6 & 7 & 9 & 1 & 46\\\\\n",
       "\t2 & 37 & 22 &  6 & 3 & 6 & 1 & 21\\\\\n",
       "\t3 & 37 & 25 & 12 & 4 & 6 & 2 & 36\\\\\n",
       "\t4 & 29 & 26 & 10 & 5 & 2 & 1 & 49\\\\\n",
       "\t5 & 31 & 21 &  7 & 4 & 7 & 1 & 34\\\\\n",
       "\t6 & 37 & 31 &  3 & 9 & 2 & 3 & 37\\\\\n",
       "\\end{tabular}\n"
      ],
      "text/markdown": [
       "\n",
       "A data.frame: 6 × 7\n",
       "\n",
       "| <!--/--> | MIN &lt;int&gt; | FGA &lt;int&gt; | FTA &lt;int&gt; | REB &lt;int&gt; | AST &lt;int&gt; | STL &lt;int&gt; | PTS &lt;int&gt; |\n",
       "|---|---|---|---|---|---|---|---|\n",
       "| 1 | 40 | 36 |  6 | 7 | 9 | 1 | 46 |\n",
       "| 2 | 37 | 22 |  6 | 3 | 6 | 1 | 21 |\n",
       "| 3 | 37 | 25 | 12 | 4 | 6 | 2 | 36 |\n",
       "| 4 | 29 | 26 | 10 | 5 | 2 | 1 | 49 |\n",
       "| 5 | 31 | 21 |  7 | 4 | 7 | 1 | 34 |\n",
       "| 6 | 37 | 31 |  3 | 9 | 2 | 3 | 37 |\n",
       "\n"
      ],
      "text/plain": [
       "  MIN FGA FTA REB AST STL PTS\n",
       "1 40  36   6  7   9   1   46 \n",
       "2 37  22   6  3   6   1   21 \n",
       "3 37  25  12  4   6   2   36 \n",
       "4 29  26  10  5   2   1   49 \n",
       "5 31  21   7  4   7   1   34 \n",
       "6 37  31   3  9   2   3   37 "
      ]
     },
     "metadata": {},
     "output_type": "display_data"
    }
   ],
   "source": [
    "head(all_games)"
   ]
  },
  {
   "cell_type": "markdown",
   "id": "ea540738",
   "metadata": {},
   "source": [
    "### Creating the Model\n",
    "We will be creating a linear regression model using the dataframe with all available games."
   ]
  },
  {
   "cell_type": "code",
   "execution_count": 149,
   "id": "ceee7003",
   "metadata": {},
   "outputs": [],
   "source": [
    "set.seed(2)\n",
    "library(caTools)"
   ]
  },
  {
   "cell_type": "code",
   "execution_count": 150,
   "id": "518a8936",
   "metadata": {},
   "outputs": [],
   "source": [
    "split <- sample.split(all_games, SplitRatio=0.7)"
   ]
  },
  {
   "cell_type": "code",
   "execution_count": 151,
   "id": "cb2f33e3",
   "metadata": {},
   "outputs": [
    {
     "data": {
      "text/html": [
       "<style>\n",
       ".list-inline {list-style: none; margin:0; padding: 0}\n",
       ".list-inline>li {display: inline-block}\n",
       ".list-inline>li:not(:last-child)::after {content: \"\\00b7\"; padding: 0 .5ex}\n",
       "</style>\n",
       "<ol class=list-inline><li>TRUE</li><li>FALSE</li><li>TRUE</li><li>TRUE</li><li>FALSE</li><li>FALSE</li><li>TRUE</li></ol>\n"
      ],
      "text/latex": [
       "\\begin{enumerate*}\n",
       "\\item TRUE\n",
       "\\item FALSE\n",
       "\\item TRUE\n",
       "\\item TRUE\n",
       "\\item FALSE\n",
       "\\item FALSE\n",
       "\\item TRUE\n",
       "\\end{enumerate*}\n"
      ],
      "text/markdown": [
       "1. TRUE\n",
       "2. FALSE\n",
       "3. TRUE\n",
       "4. TRUE\n",
       "5. FALSE\n",
       "6. FALSE\n",
       "7. TRUE\n",
       "\n",
       "\n"
      ],
      "text/plain": [
       "[1]  TRUE FALSE  TRUE  TRUE FALSE FALSE  TRUE"
      ]
     },
     "metadata": {},
     "output_type": "display_data"
    }
   ],
   "source": [
    "split"
   ]
  },
  {
   "cell_type": "code",
   "execution_count": 152,
   "id": "3f108f1c",
   "metadata": {},
   "outputs": [],
   "source": [
    "train <- subset(all_games, split=\"TRUE\")\n",
    "test <- subset(all_games, split='FALSE')"
   ]
  },
  {
   "cell_type": "code",
   "execution_count": 153,
   "id": "895088ed",
   "metadata": {},
   "outputs": [],
   "source": [
    "model <- lm(PTS ~., data=train)"
   ]
  },
  {
   "cell_type": "code",
   "execution_count": 154,
   "id": "c35bac27",
   "metadata": {},
   "outputs": [
    {
     "data": {
      "text/plain": [
       "\n",
       "Call:\n",
       "lm(formula = PTS ~ ., data = train)\n",
       "\n",
       "Residuals:\n",
       "     Min       1Q   Median       3Q      Max \n",
       "-18.3459  -3.7829  -0.2043   3.8193  17.6853 \n",
       "\n",
       "Coefficients:\n",
       "            Estimate Std. Error t value Pr(>|t|)    \n",
       "(Intercept)  0.47812    1.09759   0.436   0.6632    \n",
       "MIN         -0.09128    0.03956  -2.307   0.0213 *  \n",
       "FGA          1.33672    0.04456  29.995   <2e-16 ***\n",
       "FTA          1.06764    0.06249  17.085   <2e-16 ***\n",
       "REB         -0.09428    0.08133  -1.159   0.2467    \n",
       "AST         -0.06988    0.06831  -1.023   0.3066    \n",
       "STL         -0.08747    0.14593  -0.599   0.5491    \n",
       "---\n",
       "Signif. codes:  0 '***' 0.001 '**' 0.01 '*' 0.05 '.' 0.1 ' ' 1\n",
       "\n",
       "Residual standard error: 5.503 on 870 degrees of freedom\n",
       "Multiple R-squared:  0.6988,\tAdjusted R-squared:  0.6967 \n",
       "F-statistic: 336.4 on 6 and 870 DF,  p-value: < 2.2e-16\n"
      ]
     },
     "metadata": {},
     "output_type": "display_data"
    }
   ],
   "source": [
    "summary(model)"
   ]
  },
  {
   "cell_type": "code",
   "execution_count": 155,
   "id": "9fb6920b",
   "metadata": {
    "scrolled": true
   },
   "outputs": [],
   "source": [
    "pred <- predict(model, test)"
   ]
  },
  {
   "cell_type": "code",
   "execution_count": 163,
   "id": "14b45827",
   "metadata": {},
   "outputs": [
    {
     "data": {
      "image/png": "[encoded data removed]",
      "text/plain": [
       "plot without title"
      ]
     },
     "metadata": {
      "image/png": {
       "height": 480,
       "width": 720
      }
     },
     "output_type": "display_data"
    }
   ],
   "source": [
    "options(repr.plot.width=12 ,repr.plot.height=8)\n",
    "plot(all_games$PTS, type='l', lty=1.8, col='red')\n",
    "lines(pred, type='l', lty=1.8, col='blue')"
   ]
  },
  {
   "cell_type": "markdown",
   "id": "6cf03b94",
   "metadata": {},
   "source": [
    "### Future Game\n",
    "Using Stephen Curry's averages this 2022 Season, we will predict how much points he will score next game."
   ]
  },
  {
   "cell_type": "code",
   "execution_count": 188,
   "id": "90b2af23",
   "metadata": {},
   "outputs": [],
   "source": [
    "avg <- dbGetQuery(con, 'SELECT AVG(\"MIN\"), AVG(\"FGA\"), AVG(\"FTA\"), \n",
    "                        AVG(\"REB\"), AVG(\"AST\"), AVG(\"STL\"), AVG(\"PTS\") FROM season_2022')"
   ]
  },
  {
   "cell_type": "code",
   "execution_count": 191,
   "id": "2ad228f7",
   "metadata": {
    "scrolled": true
   },
   "outputs": [
    {
     "data": {
      "text/html": [
       "<table class=\"dataframe\">\n",
       "<caption>A data.frame: 1 × 7</caption>\n",
       "<thead>\n",
       "\t<tr><th scope=col>MIN</th><th scope=col>FGA</th><th scope=col>FTA</th><th scope=col>REB</th><th scope=col>AST</th><th scope=col>STL</th><th scope=col>PTS</th></tr>\n",
       "\t<tr><th scope=col>&lt;dbl&gt;</th><th scope=col>&lt;dbl&gt;</th><th scope=col>&lt;dbl&gt;</th><th scope=col>&lt;dbl&gt;</th><th scope=col>&lt;dbl&gt;</th><th scope=col>&lt;dbl&gt;</th><th scope=col>&lt;dbl&gt;</th></tr>\n",
       "</thead>\n",
       "<tbody>\n",
       "\t<tr><td>34.88235</td><td>20.19608</td><td>5.058824</td><td>6.254902</td><td>6.352941</td><td>0.9607843</td><td>29.58824</td></tr>\n",
       "</tbody>\n",
       "</table>\n"
      ],
      "text/latex": [
       "A data.frame: 1 × 7\n",
       "\\begin{tabular}{lllllll}\n",
       " MIN & FGA & FTA & REB & AST & STL & PTS\\\\\n",
       " <dbl> & <dbl> & <dbl> & <dbl> & <dbl> & <dbl> & <dbl>\\\\\n",
       "\\hline\n",
       "\t 34.88235 & 20.19608 & 5.058824 & 6.254902 & 6.352941 & 0.9607843 & 29.58824\\\\\n",
       "\\end{tabular}\n"
      ],
      "text/markdown": [
       "\n",
       "A data.frame: 1 × 7\n",
       "\n",
       "| MIN &lt;dbl&gt; | FGA &lt;dbl&gt; | FTA &lt;dbl&gt; | REB &lt;dbl&gt; | AST &lt;dbl&gt; | STL &lt;dbl&gt; | PTS &lt;dbl&gt; |\n",
       "|---|---|---|---|---|---|---|\n",
       "| 34.88235 | 20.19608 | 5.058824 | 6.254902 | 6.352941 | 0.9607843 | 29.58824 |\n",
       "\n"
      ],
      "text/plain": [
       "  MIN      FGA      FTA      REB      AST      STL       PTS     \n",
       "1 34.88235 20.19608 5.058824 6.254902 6.352941 0.9607843 29.58824"
      ]
     },
     "metadata": {},
     "output_type": "display_data"
    }
   ],
   "source": [
    "colnames(avg) <- c('MIN', 'FGA', 'FTA', 'REB', 'AST', 'STL', 'PTS')\n",
    "avg"
   ]
  },
  {
   "cell_type": "code",
   "execution_count": 192,
   "id": "f8ee5391",
   "metadata": {},
   "outputs": [],
   "source": [
    "next_game <- predict(model, avg)"
   ]
  },
  {
   "cell_type": "code",
   "execution_count": 203,
   "id": "84db0386",
   "metadata": {},
   "outputs": [
    {
     "name": "stdout",
     "output_type": "stream",
     "text": [
      "Stephen Curry will score 28.57386 points next game"
     ]
    }
   ],
   "source": [
    "cat(\"Stephen Curry will score\", next_game,\"points next game\")"
   ]
  },
  {
   "cell_type": "code",
   "execution_count": null,
   "id": "4cdb317b",
   "metadata": {},
   "outputs": [],
   "source": [
    "dbDisconnect(con)"
   ]
  }
 ],
 "metadata": {
  "kernelspec": {
   "display_name": "R",
   "language": "R",
   "name": "ir"
  },
  "language_info": {
   "codemirror_mode": "r",
   "file_extension": ".r",
   "mimetype": "text/x-r-source",
   "name": "R",
   "pygments_lexer": "r",
   "version": "4.1.3"
  }
 },
 "nbformat": 4,
 "nbformat_minor": 5
}
