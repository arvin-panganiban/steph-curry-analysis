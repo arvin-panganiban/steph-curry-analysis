{
 "cells": [
  {
   "cell_type": "markdown",
   "id": "9ae4d638",
   "metadata": {},
   "source": [
    "# Is Unanimous MVP Stephen Curry the Best Curry?\n",
    "Stephen Curry is the first player to receive an unanimous MVP in NBA history. Many analyst and reporters concluded that his unanimous MVP season was the best Stephen Curry that ever walked on the court. The goal of this notebook is to analyze Stephen Curry's stats and determine whether unanimous MVP Stephen Curry is the best Stephen Curry. However, since MVP Awards only take regular seasons into account, we will also find the best post-season Stephen Curry has played.\n",
    "\n",
    "## Understanding and Cleaning the Dataset"
   ]
  },
  {
   "cell_type": "code",
   "execution_count": 1,
   "id": "f72d5816",
   "metadata": {
    "scrolled": false
   },
   "outputs": [
    {
     "name": "stderr",
     "output_type": "stream",
     "text": [
      "Registered S3 methods overwritten by 'ggplot2':\n",
      "  method         from \n",
      "  [.quosures     rlang\n",
      "  c.quosures     rlang\n",
      "  print.quosures rlang\n"
     ]
    },
    {
     "data": {
      "text/html": [
       "<table>\n",
       "<thead><tr><th></th><th scope=col>Season_year</th><th scope=col>Season_div</th><th scope=col>Date</th><th scope=col>OPP</th><th scope=col>Result</th><th scope=col>T.Score</th><th scope=col>O.Score</th><th scope=col>MIN</th><th scope=col>FG</th><th scope=col>FGM</th><th scope=col>...</th><th scope=col>FTM</th><th scope=col>FTA</th><th scope=col>FT.</th><th scope=col>REB</th><th scope=col>AST</th><th scope=col>BLK</th><th scope=col>STL</th><th scope=col>PF</th><th scope=col>TO</th><th scope=col>PTS</th></tr></thead>\n",
       "<tbody>\n",
       "\t<tr><th scope=row>916</th><td>2020-2021</td><td>Regular  </td><td>Tue 12/22</td><td>BKN      </td><td>L        </td><td> 99      </td><td>125      </td><td>30       </td><td>7-21     </td><td> 7       </td><td>...      </td><td>4        </td><td>4        </td><td>100.0    </td><td>4        </td><td>10       </td><td>0        </td><td>2        </td><td>1        </td><td>3        </td><td>20       </td></tr>\n",
       "\t<tr><th scope=row>917</th><td>2020-2021</td><td>Regular  </td><td>Fri 5/21 </td><td>MEM      </td><td>L        </td><td>112      </td><td>117      </td><td>47       </td><td>13-28    </td><td>13       </td><td>...      </td><td>7        </td><td>7        </td><td>100.0    </td><td>4        </td><td> 5       </td><td>0        </td><td>3        </td><td>5        </td><td>7        </td><td>39       </td></tr>\n",
       "\t<tr><th scope=row>918</th><td>2020-2021</td><td>Regular  </td><td>Wed 5/19 </td><td>LAL      </td><td>L        </td><td>100      </td><td>103      </td><td>41       </td><td>12-23    </td><td>12       </td><td>...      </td><td>7        </td><td>8        </td><td> 87.5    </td><td>7        </td><td> 3       </td><td>0        </td><td>0        </td><td>2        </td><td>6        </td><td>37       </td></tr>\n",
       "\t<tr><th scope=row>919</th><td>2020-2021</td><td>Regular  </td><td>Thu 12/17</td><td>SAC      </td><td>W        </td><td>113      </td><td>105      </td><td>29       </td><td>9-23     </td><td> 9       </td><td>...      </td><td>5        </td><td>5        </td><td>100.0    </td><td>6        </td><td> 3       </td><td>0        </td><td>2        </td><td>2        </td><td>1        </td><td>29       </td></tr>\n",
       "\t<tr><th scope=row>920</th><td>2020-2021</td><td>Regular  </td><td>Tue 12/15</td><td>SAC      </td><td>L        </td><td>113      </td><td>114      </td><td>28       </td><td>11-21    </td><td>11       </td><td>...      </td><td>2        </td><td>3        </td><td> 66.7    </td><td>4        </td><td> 4       </td><td>1        </td><td>3        </td><td>0        </td><td>4        </td><td>29       </td></tr>\n",
       "\t<tr><th scope=row>921</th><td>2020-2021</td><td>Regular  </td><td>Sat 12/12</td><td>DEN      </td><td>W        </td><td>107      </td><td>105      </td><td>21       </td><td>3-10     </td><td> 3       </td><td>...      </td><td>2        </td><td>2        </td><td>100.0    </td><td>1        </td><td> 3       </td><td>0        </td><td>2        </td><td>1        </td><td>3        </td><td>10       </td></tr>\n",
       "</tbody>\n",
       "</table>\n"
      ],
      "text/latex": [
       "\\begin{tabular}{r|lllllllllllllllllllllllllll}\n",
       "  & Season\\_year & Season\\_div & Date & OPP & Result & T.Score & O.Score & MIN & FG & FGM & ... & FTM & FTA & FT. & REB & AST & BLK & STL & PF & TO & PTS\\\\\n",
       "\\hline\n",
       "\t916 & 2020-2021 & Regular   & Tue 12/22 & BKN       & L         &  99       & 125       & 30        & 7-21      &  7        & ...       & 4         & 4         & 100.0     & 4         & 10        & 0         & 2         & 1         & 3         & 20       \\\\\n",
       "\t917 & 2020-2021 & Regular   & Fri 5/21  & MEM       & L         & 112       & 117       & 47        & 13-28     & 13        & ...       & 7         & 7         & 100.0     & 4         &  5        & 0         & 3         & 5         & 7         & 39       \\\\\n",
       "\t918 & 2020-2021 & Regular   & Wed 5/19  & LAL       & L         & 100       & 103       & 41        & 12-23     & 12        & ...       & 7         & 8         &  87.5     & 7         &  3        & 0         & 0         & 2         & 6         & 37       \\\\\n",
       "\t919 & 2020-2021 & Regular   & Thu 12/17 & SAC       & W         & 113       & 105       & 29        & 9-23      &  9        & ...       & 5         & 5         & 100.0     & 6         &  3        & 0         & 2         & 2         & 1         & 29       \\\\\n",
       "\t920 & 2020-2021 & Regular   & Tue 12/15 & SAC       & L         & 113       & 114       & 28        & 11-21     & 11        & ...       & 2         & 3         &  66.7     & 4         &  4        & 1         & 3         & 0         & 4         & 29       \\\\\n",
       "\t921 & 2020-2021 & Regular   & Sat 12/12 & DEN       & W         & 107       & 105       & 21        & 3-10      &  3        & ...       & 2         & 2         & 100.0     & 1         &  3        & 0         & 2         & 1         & 3         & 10       \\\\\n",
       "\\end{tabular}\n"
      ],
      "text/markdown": [
       "\n",
       "| <!--/--> | Season_year | Season_div | Date | OPP | Result | T.Score | O.Score | MIN | FG | FGM | ... | FTM | FTA | FT. | REB | AST | BLK | STL | PF | TO | PTS |\n",
       "|---|---|---|---|---|---|---|---|---|---|---|---|---|---|---|---|---|---|---|---|---|---|\n",
       "| 916 | 2020-2021 | Regular   | Tue 12/22 | BKN       | L         |  99       | 125       | 30        | 7-21      |  7        | ...       | 4         | 4         | 100.0     | 4         | 10        | 0         | 2         | 1         | 3         | 20        |\n",
       "| 917 | 2020-2021 | Regular   | Fri 5/21  | MEM       | L         | 112       | 117       | 47        | 13-28     | 13        | ...       | 7         | 7         | 100.0     | 4         |  5        | 0         | 3         | 5         | 7         | 39        |\n",
       "| 918 | 2020-2021 | Regular   | Wed 5/19  | LAL       | L         | 100       | 103       | 41        | 12-23     | 12        | ...       | 7         | 8         |  87.5     | 7         |  3        | 0         | 0         | 2         | 6         | 37        |\n",
       "| 919 | 2020-2021 | Regular   | Thu 12/17 | SAC       | W         | 113       | 105       | 29        | 9-23      |  9        | ...       | 5         | 5         | 100.0     | 6         |  3        | 0         | 2         | 2         | 1         | 29        |\n",
       "| 920 | 2020-2021 | Regular   | Tue 12/15 | SAC       | L         | 113       | 114       | 28        | 11-21     | 11        | ...       | 2         | 3         |  66.7     | 4         |  4        | 1         | 3         | 0         | 4         | 29        |\n",
       "| 921 | 2020-2021 | Regular   | Sat 12/12 | DEN       | W         | 107       | 105       | 21        | 3-10      |  3        | ...       | 2         | 2         | 100.0     | 1         |  3        | 0         | 2         | 1         | 3         | 10        |\n",
       "\n"
      ],
      "text/plain": [
       "    Season_year Season_div Date      OPP Result T.Score O.Score MIN FG    FGM\n",
       "916 2020-2021   Regular    Tue 12/22 BKN L       99     125     30  7-21   7 \n",
       "917 2020-2021   Regular    Fri 5/21  MEM L      112     117     47  13-28 13 \n",
       "918 2020-2021   Regular    Wed 5/19  LAL L      100     103     41  12-23 12 \n",
       "919 2020-2021   Regular    Thu 12/17 SAC W      113     105     29  9-23   9 \n",
       "920 2020-2021   Regular    Tue 12/15 SAC L      113     114     28  11-21 11 \n",
       "921 2020-2021   Regular    Sat 12/12 DEN W      107     105     21  3-10   3 \n",
       "    ... FTM FTA FT.   REB AST BLK STL PF TO PTS\n",
       "916 ... 4   4   100.0 4   10  0   2   1  3  20 \n",
       "917 ... 7   7   100.0 4    5  0   3   5  7  39 \n",
       "918 ... 7   8    87.5 7    3  0   0   2  6  37 \n",
       "919 ... 5   5   100.0 6    3  0   2   2  1  29 \n",
       "920 ... 2   3    66.7 4    4  1   3   0  4  29 \n",
       "921 ... 2   2   100.0 1    3  0   2   1  3  10 "
      ]
     },
     "metadata": {},
     "output_type": "display_data"
    }
   ],
   "source": [
    "library(ggplot2)\n",
    "Curry <- read.csv(\"C:/Users/Mumen Rider/Desktop/Curry/Stephen Curry Stats.csv\")\n",
    "tail(Curry)"
   ]
  },
  {
   "cell_type": "markdown",
   "id": "5d25f0b0",
   "metadata": {},
   "source": [
    "We are going to remove Preseason stats because those do not reflect how Curry operate and how he plays his game. Additionally, We are also removing seasons stats where there is not enough sample size because he did not play enough games."
   ]
  },
  {
   "cell_type": "code",
   "execution_count": 2,
   "id": "92f0caf0",
   "metadata": {
    "scrolled": false
   },
   "outputs": [],
   "source": [
    "Curry <- subset(Curry,!(Season_div == 'Pre')) #Removing all games that were played in the Pre-season\n",
    "seasons <- unique(Curry$Season_year)"
   ]
  },
  {
   "cell_type": "code",
   "execution_count": 3,
   "id": "da27b8aa",
   "metadata": {},
   "outputs": [
    {
     "name": "stdout",
     "output_type": "stream",
     "text": [
      "Games played in 2009-2010 Season: 80 \n",
      "Games played in 2010-2011 Season: 74 \n",
      "Games played in 2011-2012 Season: 25 \n",
      "Games played in 2012-2013 Season: 90 \n",
      "Games played in 2013-2014 Season: 85 \n",
      "Games played in 2014-2015 Season: 101 \n",
      "Games played in 2015-2016 Season: 97 \n",
      "Games played in 2016-2017 Season: 96 \n",
      "Games played in 2017-2018 Season: 66 \n",
      "Games played in 2018-2019 Season: 91 \n",
      "Games played in 2019-2020 Season: 5 \n",
      "Games played in 2020-2021 Season: 68 \n"
     ]
    }
   ],
   "source": [
    "#Print how many games Curry played in each season\n",
    "for (x in 1:length(seasons)){\n",
    "    cat(\"Games played in\", levels(seasons)[x], \"Season:\", nrow(Curry[Curry$Season_year == seasons[x],]), '\\n')\n",
    "}"
   ]
  },
  {
   "cell_type": "markdown",
   "id": "18e376b1",
   "metadata": {},
   "source": [
    "Based on the amount of gamess, we are going to remove the 2011-2012 and 2019-2020 seasons where he played >=25 games. Upon manually checking, I noticed that the latest season, 2020-2021, only has Regular season stats. There may be a mistake and will need to be fixed."
   ]
  },
  {
   "cell_type": "code",
   "execution_count": 4,
   "id": "1ecd28f6",
   "metadata": {},
   "outputs": [
    {
     "data": {
      "text/html": [
       "Regular\n",
       "<details>\n",
       "\t<summary style=display:list-item;cursor:pointer>\n",
       "\t\t<strong>Levels</strong>:\n",
       "\t</summary>\n",
       "\t<ol class=list-inline>\n",
       "\t\t<li>'Post'</li>\n",
       "\t\t<li>'Pre'</li>\n",
       "\t\t<li>'Regular'</li>\n",
       "\t</ol>\n",
       "</details>"
      ],
      "text/latex": [
       "Regular\n",
       "\\emph{Levels}: \\begin{enumerate*}\n",
       "\\item 'Post'\n",
       "\\item 'Pre'\n",
       "\\item 'Regular'\n",
       "\\end{enumerate*}\n"
      ],
      "text/markdown": [
       "Regular\n",
       "**Levels**: 1. 'Post'\n",
       "2. 'Pre'\n",
       "3. 'Regular'\n",
       "\n",
       "\n"
      ],
      "text/plain": [
       "[1] Regular\n",
       "Levels: Post Pre Regular"
      ]
     },
     "metadata": {},
     "output_type": "display_data"
    },
    {
     "data": {
      "text/html": [
       "<table>\n",
       "<thead><tr><th></th><th scope=col>Season_year</th><th scope=col>Season_div</th><th scope=col>Date</th><th scope=col>OPP</th><th scope=col>Result</th><th scope=col>T.Score</th><th scope=col>O.Score</th><th scope=col>MIN</th><th scope=col>FG</th><th scope=col>FGM</th><th scope=col>...</th><th scope=col>FTM</th><th scope=col>FTA</th><th scope=col>FT.</th><th scope=col>REB</th><th scope=col>AST</th><th scope=col>BLK</th><th scope=col>STL</th><th scope=col>PF</th><th scope=col>TO</th><th scope=col>PTS</th></tr></thead>\n",
       "<tbody>\n",
       "\t<tr><th scope=row>916</th><td>2020-2021</td><td>Regular  </td><td>Tue 12/22</td><td>BKN      </td><td>L        </td><td> 99      </td><td>125      </td><td>30       </td><td>7-21     </td><td> 7       </td><td>...      </td><td>4        </td><td>4        </td><td>100.0    </td><td>4        </td><td>10       </td><td>0        </td><td>2        </td><td>1        </td><td>3        </td><td>20       </td></tr>\n",
       "\t<tr><th scope=row>917</th><td>2020-2021</td><td>Regular  </td><td>Fri 5/21 </td><td>MEM      </td><td>L        </td><td>112      </td><td>117      </td><td>47       </td><td>13-28    </td><td>13       </td><td>...      </td><td>7        </td><td>7        </td><td>100.0    </td><td>4        </td><td> 5       </td><td>0        </td><td>3        </td><td>5        </td><td>7        </td><td>39       </td></tr>\n",
       "\t<tr><th scope=row>918</th><td>2020-2021</td><td>Regular  </td><td>Wed 5/19 </td><td>LAL      </td><td>L        </td><td>100      </td><td>103      </td><td>41       </td><td>12-23    </td><td>12       </td><td>...      </td><td>7        </td><td>8        </td><td> 87.5    </td><td>7        </td><td> 3       </td><td>0        </td><td>0        </td><td>2        </td><td>6        </td><td>37       </td></tr>\n",
       "\t<tr><th scope=row>919</th><td>2020-2021</td><td>Regular  </td><td>Thu 12/17</td><td>SAC      </td><td>W        </td><td>113      </td><td>105      </td><td>29       </td><td>9-23     </td><td> 9       </td><td>...      </td><td>5        </td><td>5        </td><td>100.0    </td><td>6        </td><td> 3       </td><td>0        </td><td>2        </td><td>2        </td><td>1        </td><td>29       </td></tr>\n",
       "\t<tr><th scope=row>920</th><td>2020-2021</td><td>Regular  </td><td>Tue 12/15</td><td>SAC      </td><td>L        </td><td>113      </td><td>114      </td><td>28       </td><td>11-21    </td><td>11       </td><td>...      </td><td>2        </td><td>3        </td><td> 66.7    </td><td>4        </td><td> 4       </td><td>1        </td><td>3        </td><td>0        </td><td>4        </td><td>29       </td></tr>\n",
       "\t<tr><th scope=row>921</th><td>2020-2021</td><td>Regular  </td><td>Sat 12/12</td><td>DEN      </td><td>W        </td><td>107      </td><td>105      </td><td>21       </td><td>3-10     </td><td> 3       </td><td>...      </td><td>2        </td><td>2        </td><td>100.0    </td><td>1        </td><td> 3       </td><td>0        </td><td>2        </td><td>1        </td><td>3        </td><td>10       </td></tr>\n",
       "</tbody>\n",
       "</table>\n"
      ],
      "text/latex": [
       "\\begin{tabular}{r|lllllllllllllllllllllllllll}\n",
       "  & Season\\_year & Season\\_div & Date & OPP & Result & T.Score & O.Score & MIN & FG & FGM & ... & FTM & FTA & FT. & REB & AST & BLK & STL & PF & TO & PTS\\\\\n",
       "\\hline\n",
       "\t916 & 2020-2021 & Regular   & Tue 12/22 & BKN       & L         &  99       & 125       & 30        & 7-21      &  7        & ...       & 4         & 4         & 100.0     & 4         & 10        & 0         & 2         & 1         & 3         & 20       \\\\\n",
       "\t917 & 2020-2021 & Regular   & Fri 5/21  & MEM       & L         & 112       & 117       & 47        & 13-28     & 13        & ...       & 7         & 7         & 100.0     & 4         &  5        & 0         & 3         & 5         & 7         & 39       \\\\\n",
       "\t918 & 2020-2021 & Regular   & Wed 5/19  & LAL       & L         & 100       & 103       & 41        & 12-23     & 12        & ...       & 7         & 8         &  87.5     & 7         &  3        & 0         & 0         & 2         & 6         & 37       \\\\\n",
       "\t919 & 2020-2021 & Regular   & Thu 12/17 & SAC       & W         & 113       & 105       & 29        & 9-23      &  9        & ...       & 5         & 5         & 100.0     & 6         &  3        & 0         & 2         & 2         & 1         & 29       \\\\\n",
       "\t920 & 2020-2021 & Regular   & Tue 12/15 & SAC       & L         & 113       & 114       & 28        & 11-21     & 11        & ...       & 2         & 3         &  66.7     & 4         &  4        & 1         & 3         & 0         & 4         & 29       \\\\\n",
       "\t921 & 2020-2021 & Regular   & Sat 12/12 & DEN       & W         & 107       & 105       & 21        & 3-10      &  3        & ...       & 2         & 2         & 100.0     & 1         &  3        & 0         & 2         & 1         & 3         & 10       \\\\\n",
       "\\end{tabular}\n"
      ],
      "text/markdown": [
       "\n",
       "| <!--/--> | Season_year | Season_div | Date | OPP | Result | T.Score | O.Score | MIN | FG | FGM | ... | FTM | FTA | FT. | REB | AST | BLK | STL | PF | TO | PTS |\n",
       "|---|---|---|---|---|---|---|---|---|---|---|---|---|---|---|---|---|---|---|---|---|---|\n",
       "| 916 | 2020-2021 | Regular   | Tue 12/22 | BKN       | L         |  99       | 125       | 30        | 7-21      |  7        | ...       | 4         | 4         | 100.0     | 4         | 10        | 0         | 2         | 1         | 3         | 20        |\n",
       "| 917 | 2020-2021 | Regular   | Fri 5/21  | MEM       | L         | 112       | 117       | 47        | 13-28     | 13        | ...       | 7         | 7         | 100.0     | 4         |  5        | 0         | 3         | 5         | 7         | 39        |\n",
       "| 918 | 2020-2021 | Regular   | Wed 5/19  | LAL       | L         | 100       | 103       | 41        | 12-23     | 12        | ...       | 7         | 8         |  87.5     | 7         |  3        | 0         | 0         | 2         | 6         | 37        |\n",
       "| 919 | 2020-2021 | Regular   | Thu 12/17 | SAC       | W         | 113       | 105       | 29        | 9-23      |  9        | ...       | 5         | 5         | 100.0     | 6         |  3        | 0         | 2         | 2         | 1         | 29        |\n",
       "| 920 | 2020-2021 | Regular   | Tue 12/15 | SAC       | L         | 113       | 114       | 28        | 11-21     | 11        | ...       | 2         | 3         |  66.7     | 4         |  4        | 1         | 3         | 0         | 4         | 29        |\n",
       "| 921 | 2020-2021 | Regular   | Sat 12/12 | DEN       | W         | 107       | 105       | 21        | 3-10      |  3        | ...       | 2         | 2         | 100.0     | 1         |  3        | 0         | 2         | 1         | 3         | 10        |\n",
       "\n"
      ],
      "text/plain": [
       "    Season_year Season_div Date      OPP Result T.Score O.Score MIN FG    FGM\n",
       "916 2020-2021   Regular    Tue 12/22 BKN L       99     125     30  7-21   7 \n",
       "917 2020-2021   Regular    Fri 5/21  MEM L      112     117     47  13-28 13 \n",
       "918 2020-2021   Regular    Wed 5/19  LAL L      100     103     41  12-23 12 \n",
       "919 2020-2021   Regular    Thu 12/17 SAC W      113     105     29  9-23   9 \n",
       "920 2020-2021   Regular    Tue 12/15 SAC L      113     114     28  11-21 11 \n",
       "921 2020-2021   Regular    Sat 12/12 DEN W      107     105     21  3-10   3 \n",
       "    ... FTM FTA FT.   REB AST BLK STL PF TO PTS\n",
       "916 ... 4   4   100.0 4   10  0   2   1  3  20 \n",
       "917 ... 7   7   100.0 4    5  0   3   5  7  39 \n",
       "918 ... 7   8    87.5 7    3  0   0   2  6  37 \n",
       "919 ... 5   5   100.0 6    3  0   2   2  1  29 \n",
       "920 ... 2   3    66.7 4    4  1   3   0  4  29 \n",
       "921 ... 2   2   100.0 1    3  0   2   1  3  10 "
      ]
     },
     "metadata": {},
     "output_type": "display_data"
    }
   ],
   "source": [
    "unique(Curry[Curry$Season_year == '2020-2021',]$Season_div)\n",
    "tail(Curry[Curry$Season_year == '2020-2021',])"
   ]
  },
  {
   "cell_type": "markdown",
   "id": "aca07f18",
   "metadata": {},
   "source": [
    "The first regular season game the Warriors played with Stephen Curry is 12/22 against BKN while the last regular season game they played is 5/16 against MEM. Luckily, at the tail end of the Curry dataframe are where all the games we can remove. Thus we are removing the last 5 rows on the dataset."
   ]
  },
  {
   "cell_type": "code",
   "execution_count": 5,
   "id": "7aa56ca6",
   "metadata": {},
   "outputs": [],
   "source": [
    "#Removing all games that have small sample size and ones with incorrect data\n",
    "Curry <- subset(Curry,!(Season_year == '2011-2012')) \n",
    "Curry <- subset(Curry,!(Season_year == '2019-2020'))\n",
    "Curry <- head(Curry, -5)"
   ]
  },
  {
   "cell_type": "code",
   "execution_count": 6,
   "id": "4c08e5cd",
   "metadata": {},
   "outputs": [
    {
     "name": "stdout",
     "output_type": "stream",
     "text": [
      "Games played in 2009-2010 Season: 80 \n",
      "Games played in 2010-2011 Season: 74 \n",
      "Games played in 2012-2013 Season: 90 \n",
      "Games played in 2013-2014 Season: 85 \n",
      "Games played in 2014-2015 Season: 101 \n",
      "Games played in 2015-2016 Season: 97 \n",
      "Games played in 2016-2017 Season: 96 \n",
      "Games played in 2017-2018 Season: 66 \n",
      "Games played in 2018-2019 Season: 91 \n",
      "Games played in 2020-2021 Season: 63 \n"
     ]
    }
   ],
   "source": [
    "seasons <- unique(Curry$Season_year)\n",
    "for (x in 1:length(seasons)){\n",
    "    cat(\"Games played in\", levels(droplevels(Curry$Season_year))[x], \"Season:\", nrow(Curry[Curry$Season_year == seasons[x],]), '\\n')\n",
    "}"
   ]
  },
  {
   "cell_type": "markdown",
   "id": "7a490268",
   "metadata": {},
   "source": [
    "Now we are finish cleaning up the data and we can move on to determining Stephen Curry's best year.\n",
    "## Visualizing Curry's Stats\n",
    "\n",
    "We will be using Points, Assist, Rebounds and Curry's shooting splits to determine his best year and compare with his Unanimous MVP. First let us isolate the samples that we need by subsetting the Regular season and Post-Season into two separate dataframes. Then use GGPlot to create line charts for both dataframes presenting the averages for each season."
   ]
  },
  {
   "cell_type": "code",
   "execution_count": 7,
   "id": "85bf6b7b",
   "metadata": {},
   "outputs": [],
   "source": [
    "library(reshape2)\n",
    "options(repr.plot.height=4) #Decreasing plot size\n",
    "Regular = data.frame(matrix(ncol=7, nrow=length(seasons))) #creating Regular Season dataframe\n",
    "colnames(Regular) <- c('Season','PTS','AST','REB','FG%','3P%', 'FT%')\n",
    "RegSeason <- subset(Curry,Season_div == 'Regular')"
   ]
  },
  {
   "cell_type": "markdown",
   "id": "eb3f67bb",
   "metadata": {},
   "source": [
    "The FT%, FG%, and 3P% in the original dataset are calculate per game. It does not reflect the percentages for the whole season. We cannot use the mean function in R to find the average. Thus, we need to calculate these percentages and add them into our newly created dataframe."
   ]
  },
  {
   "cell_type": "code",
   "execution_count": 8,
   "id": "0f4da5af",
   "metadata": {},
   "outputs": [],
   "source": [
    "#Adding in values in the new dataframe\n",
    "for (x in 1:length(seasons)){\n",
    "    Regular[x,] <- c(levels(droplevels(Curry$Season_year))[x], \n",
    "                round(mean(RegSeason[RegSeason$Season_year==seasons[x],]$PTS), digits=1), \n",
    "                round(mean(RegSeason[RegSeason$Season_year==seasons[x],]$AST), digits=1),\n",
    "                round(mean(RegSeason[RegSeason$Season_year==seasons[x],]$REB), digits=1),\n",
    "                round(sum(RegSeason[RegSeason$Season_year==seasons[x],]$FGM) / sum(RegSeason[RegSeason$Season_year==seasons[x],]$FGA), digits=3),\n",
    "                round(sum(RegSeason[RegSeason$Season_year==seasons[x],]$X3PTM) / sum(RegSeason[RegSeason$Season_year==seasons[x],]$X3PTA), digits=3),\n",
    "                round(sum(RegSeason[RegSeason$Season_year==seasons[x],]$FTM) / sum(RegSeason[RegSeason$Season_year==seasons[x],]$FTA), digits=3))\n",
    "}"
   ]
  },
  {
   "cell_type": "code",
   "execution_count": 9,
   "id": "d2d48bd1",
   "metadata": {},
   "outputs": [
    {
     "data": {
      "text/html": [
       "<table>\n",
       "<thead><tr><th scope=col>Season</th><th scope=col>PTS</th><th scope=col>AST</th><th scope=col>REB</th><th scope=col>FG%</th><th scope=col>3P%</th><th scope=col>FT%</th></tr></thead>\n",
       "<tbody>\n",
       "\t<tr><td>2009-2010</td><td>17.5     </td><td>5.9      </td><td>4.5      </td><td>0.462    </td><td>0.437    </td><td>0.885    </td></tr>\n",
       "\t<tr><td>2010-2011</td><td>18.6     </td><td>5.8      </td><td>3.9      </td><td>0.48     </td><td>0.442    </td><td>0.934    </td></tr>\n",
       "\t<tr><td>2012-2013</td><td>22.9     </td><td>6.9      </td><td>4        </td><td>0.451    </td><td>0.453    </td><td>0.9      </td></tr>\n",
       "\t<tr><td>2013-2014</td><td>24       </td><td>8.5      </td><td>4.3      </td><td>0.471    </td><td>0.424    </td><td>0.885    </td></tr>\n",
       "\t<tr><td>2014-2015</td><td>23.8     </td><td>7.7      </td><td>4.3      </td><td>0.487    </td><td>0.443    </td><td>0.914    </td></tr>\n",
       "\t<tr><td>2015-2016</td><td>30.1     </td><td>6.7      </td><td>5.4      </td><td>0.504    </td><td>0.454    </td><td>0.908    </td></tr>\n",
       "\t<tr><td>2016-2017</td><td>25.3     </td><td>6.6      </td><td>4.5      </td><td>0.468    </td><td>0.411    </td><td>0.898    </td></tr>\n",
       "\t<tr><td>2017-2018</td><td>26.4     </td><td>6.1      </td><td>5.1      </td><td>0.495    </td><td>0.423    </td><td>0.921    </td></tr>\n",
       "\t<tr><td>2018-2019</td><td>27.3     </td><td>5.2      </td><td>5.3      </td><td>0.472    </td><td>0.437    </td><td>0.916    </td></tr>\n",
       "\t<tr><td>2020-2021</td><td>32       </td><td>5.8      </td><td>5.5      </td><td>0.482    </td><td>0.421    </td><td>0.916    </td></tr>\n",
       "</tbody>\n",
       "</table>\n"
      ],
      "text/latex": [
       "\\begin{tabular}{r|lllllll}\n",
       " Season & PTS & AST & REB & FG\\% & 3P\\% & FT\\%\\\\\n",
       "\\hline\n",
       "\t 2009-2010 & 17.5      & 5.9       & 4.5       & 0.462     & 0.437     & 0.885    \\\\\n",
       "\t 2010-2011 & 18.6      & 5.8       & 3.9       & 0.48      & 0.442     & 0.934    \\\\\n",
       "\t 2012-2013 & 22.9      & 6.9       & 4         & 0.451     & 0.453     & 0.9      \\\\\n",
       "\t 2013-2014 & 24        & 8.5       & 4.3       & 0.471     & 0.424     & 0.885    \\\\\n",
       "\t 2014-2015 & 23.8      & 7.7       & 4.3       & 0.487     & 0.443     & 0.914    \\\\\n",
       "\t 2015-2016 & 30.1      & 6.7       & 5.4       & 0.504     & 0.454     & 0.908    \\\\\n",
       "\t 2016-2017 & 25.3      & 6.6       & 4.5       & 0.468     & 0.411     & 0.898    \\\\\n",
       "\t 2017-2018 & 26.4      & 6.1       & 5.1       & 0.495     & 0.423     & 0.921    \\\\\n",
       "\t 2018-2019 & 27.3      & 5.2       & 5.3       & 0.472     & 0.437     & 0.916    \\\\\n",
       "\t 2020-2021 & 32        & 5.8       & 5.5       & 0.482     & 0.421     & 0.916    \\\\\n",
       "\\end{tabular}\n"
      ],
      "text/markdown": [
       "\n",
       "| Season | PTS | AST | REB | FG% | 3P% | FT% |\n",
       "|---|---|---|---|---|---|---|\n",
       "| 2009-2010 | 17.5      | 5.9       | 4.5       | 0.462     | 0.437     | 0.885     |\n",
       "| 2010-2011 | 18.6      | 5.8       | 3.9       | 0.48      | 0.442     | 0.934     |\n",
       "| 2012-2013 | 22.9      | 6.9       | 4         | 0.451     | 0.453     | 0.9       |\n",
       "| 2013-2014 | 24        | 8.5       | 4.3       | 0.471     | 0.424     | 0.885     |\n",
       "| 2014-2015 | 23.8      | 7.7       | 4.3       | 0.487     | 0.443     | 0.914     |\n",
       "| 2015-2016 | 30.1      | 6.7       | 5.4       | 0.504     | 0.454     | 0.908     |\n",
       "| 2016-2017 | 25.3      | 6.6       | 4.5       | 0.468     | 0.411     | 0.898     |\n",
       "| 2017-2018 | 26.4      | 6.1       | 5.1       | 0.495     | 0.423     | 0.921     |\n",
       "| 2018-2019 | 27.3      | 5.2       | 5.3       | 0.472     | 0.437     | 0.916     |\n",
       "| 2020-2021 | 32        | 5.8       | 5.5       | 0.482     | 0.421     | 0.916     |\n",
       "\n"
      ],
      "text/plain": [
       "   Season    PTS  AST REB FG%   3P%   FT%  \n",
       "1  2009-2010 17.5 5.9 4.5 0.462 0.437 0.885\n",
       "2  2010-2011 18.6 5.8 3.9 0.48  0.442 0.934\n",
       "3  2012-2013 22.9 6.9 4   0.451 0.453 0.9  \n",
       "4  2013-2014 24   8.5 4.3 0.471 0.424 0.885\n",
       "5  2014-2015 23.8 7.7 4.3 0.487 0.443 0.914\n",
       "6  2015-2016 30.1 6.7 5.4 0.504 0.454 0.908\n",
       "7  2016-2017 25.3 6.6 4.5 0.468 0.411 0.898\n",
       "8  2017-2018 26.4 6.1 5.1 0.495 0.423 0.921\n",
       "9  2018-2019 27.3 5.2 5.3 0.472 0.437 0.916\n",
       "10 2020-2021 32   5.8 5.5 0.482 0.421 0.916"
      ]
     },
     "metadata": {},
     "output_type": "display_data"
    }
   ],
   "source": [
    "Regular"
   ]
  },
  {
   "cell_type": "code",
   "execution_count": 10,
   "id": "6d391fb8",
   "metadata": {},
   "outputs": [],
   "source": [
    "mRegular <- melt(Regular, 'Season') #modifying dataframe to be used on ggplot much easier\n",
    "mRegular$value <- as.numeric(mRegular$value)"
   ]
  },
  {
   "cell_type": "code",
   "execution_count": 11,
   "id": "fe0b5404",
   "metadata": {},
   "outputs": [
    {
     "data": {
      "image/png": "[encoded data removed]",
      "text/plain": [
       "plot without title"
      ]
     },
     "metadata": {},
     "output_type": "display_data"
    }
   ],
   "source": [
    "RegPlot1 <- ggplot(mRegular[1:30,], aes(x=Season, y=value, group=variable, color=variable)) + \n",
    "            geom_line(size=1) + \n",
    "            geom_point(size=4) +\n",
    "            scale_y_continuous(limits = c(0,35), breaks=seq(0,35,5))\n",
    "RegPlot1 <- RegPlot1 + theme(axis.text.x = element_text(angle=45, vjust=1, hjust=1))\n",
    "RegPlot1"
   ]
  },
  {
   "cell_type": "code",
   "execution_count": 12,
   "id": "5f383415",
   "metadata": {},
   "outputs": [
    {
     "data": {
      "image/png": "[encoded data removed]",
      "text/plain": [
       "plot without title"
      ]
     },
     "metadata": {},
     "output_type": "display_data"
    }
   ],
   "source": [
    "RegPlot2 <- ggplot(mRegular[31:60,], aes(x=Season, y=value, group=variable, color=variable)) + \n",
    "            geom_line(size=1) + \n",
    "            geom_point(size=4) +\n",
    "            scale_y_continuous(limits = c(0,1), breaks=seq(0,1,0.1), labels=scales::percent)\n",
    "RegPlot2 <- RegPlot2 + theme(axis.text.x = element_text(angle=45, vjust=1, hjust=1))\n",
    "RegPlot2"
   ]
  },
  {
   "cell_type": "markdown",
   "id": "4fd098b8",
   "metadata": {},
   "source": [
    "#### Observation:\n",
    "* Curry increased his average `PTS` per season except for a spike in the 2015-2016 regular season\n",
    "* Curry's `AST` average began to continually decrease after the 2013-2014 season\n",
    "* Curry's averaged the most `PTS` and `REB` in the 2020-2021 regular season, and the most `AST` in the 2013-2014 regular season\n",
    "* Curry has the best shooting split with 50.4/45.4/90.8 (`FG%`/`3P%`/`FT%`) in the 2015-2016 regular season putting him the 50/40/90 club"
   ]
  },
  {
   "cell_type": "code",
   "execution_count": 13,
   "id": "6d272210",
   "metadata": {},
   "outputs": [],
   "source": [
    "PostSeason <- subset(Curry,Season_div=='Post') #creating Post-Season dataframe\n",
    "pSeason <- unique(PostSeason$Season_year)\n",
    "Post = data.frame(matrix(ncol=7, nrow=length(pSeason)))\n",
    "colnames(Post) <- c('Season','PTS','AST','REB','FG%','3P%','FT%')"
   ]
  },
  {
   "cell_type": "code",
   "execution_count": 14,
   "id": "b40f871f",
   "metadata": {},
   "outputs": [],
   "source": [
    "#Adding values into the dataframe\n",
    "for (x in 1:length(pSeason)){\n",
    "    Post[x,] <- c(levels(droplevels(PostSeason$Season_year))[x], \n",
    "                round(mean(PostSeason[PostSeason$Season_year==pSeason[x],]$PTS), digits=1), \n",
    "                round(mean(PostSeason[PostSeason$Season_year==pSeason[x],]$AST), digits=1),\n",
    "                round(mean(PostSeason[PostSeason$Season_year==pSeason[x],]$REB), digits=1),\n",
    "                round(sum(PostSeason[PostSeason$Season_year==pSeason[x],]$FGM) / sum(PostSeason[PostSeason$Season_year==pSeason[x],]$FGA), digits=3),\n",
    "                round(sum(PostSeason[PostSeason$Season_year==pSeason[x],]$X3PTM) / sum(PostSeason[PostSeason$Season_year==pSeason[x],]$X3PTA), digits=3),\n",
    "                round(sum(PostSeason[PostSeason$Season_year==pSeason[x],]$FTM) / sum(PostSeason[PostSeason$Season_year==pSeason[x],]$FTA), digits=3))\n",
    "}"
   ]
  },
  {
   "cell_type": "code",
   "execution_count": 15,
   "id": "1728c0c2",
   "metadata": {},
   "outputs": [
    {
     "data": {
      "text/html": [
       "<table>\n",
       "<thead><tr><th scope=col>Season</th><th scope=col>PTS</th><th scope=col>AST</th><th scope=col>REB</th><th scope=col>FG%</th><th scope=col>3P%</th><th scope=col>FT%</th></tr></thead>\n",
       "<tbody>\n",
       "\t<tr><td>2012-2013</td><td>23.4     </td><td>8.1      </td><td>3.8      </td><td>0.434    </td><td>0.396    </td><td>0.921    </td></tr>\n",
       "\t<tr><td>2013-2014</td><td>23       </td><td>8.4      </td><td>3.6      </td><td>0.44     </td><td>0.386    </td><td>0.881    </td></tr>\n",
       "\t<tr><td>2014-2015</td><td>28.3     </td><td>6.4      </td><td>5        </td><td>0.456    </td><td>0.422    </td><td>0.835    </td></tr>\n",
       "\t<tr><td>2015-2016</td><td>25.1     </td><td>5.2      </td><td>5.5      </td><td>0.438    </td><td>0.404    </td><td>0.916    </td></tr>\n",
       "\t<tr><td>2016-2017</td><td>28.1     </td><td>6.7      </td><td>6.2      </td><td>0.484    </td><td>0.419    </td><td>0.904    </td></tr>\n",
       "\t<tr><td>2017-2018</td><td>25.5     </td><td>5.4      </td><td>6.1      </td><td>0.451    </td><td>0.395    </td><td>0.957    </td></tr>\n",
       "\t<tr><td>2018-2019</td><td>28.2     </td><td>5.7      </td><td>6        </td><td>0.441    </td><td>0.377    </td><td>0.943    </td></tr>\n",
       "</tbody>\n",
       "</table>\n"
      ],
      "text/latex": [
       "\\begin{tabular}{r|lllllll}\n",
       " Season & PTS & AST & REB & FG\\% & 3P\\% & FT\\%\\\\\n",
       "\\hline\n",
       "\t 2012-2013 & 23.4      & 8.1       & 3.8       & 0.434     & 0.396     & 0.921    \\\\\n",
       "\t 2013-2014 & 23        & 8.4       & 3.6       & 0.44      & 0.386     & 0.881    \\\\\n",
       "\t 2014-2015 & 28.3      & 6.4       & 5         & 0.456     & 0.422     & 0.835    \\\\\n",
       "\t 2015-2016 & 25.1      & 5.2       & 5.5       & 0.438     & 0.404     & 0.916    \\\\\n",
       "\t 2016-2017 & 28.1      & 6.7       & 6.2       & 0.484     & 0.419     & 0.904    \\\\\n",
       "\t 2017-2018 & 25.5      & 5.4       & 6.1       & 0.451     & 0.395     & 0.957    \\\\\n",
       "\t 2018-2019 & 28.2      & 5.7       & 6         & 0.441     & 0.377     & 0.943    \\\\\n",
       "\\end{tabular}\n"
      ],
      "text/markdown": [
       "\n",
       "| Season | PTS | AST | REB | FG% | 3P% | FT% |\n",
       "|---|---|---|---|---|---|---|\n",
       "| 2012-2013 | 23.4      | 8.1       | 3.8       | 0.434     | 0.396     | 0.921     |\n",
       "| 2013-2014 | 23        | 8.4       | 3.6       | 0.44      | 0.386     | 0.881     |\n",
       "| 2014-2015 | 28.3      | 6.4       | 5         | 0.456     | 0.422     | 0.835     |\n",
       "| 2015-2016 | 25.1      | 5.2       | 5.5       | 0.438     | 0.404     | 0.916     |\n",
       "| 2016-2017 | 28.1      | 6.7       | 6.2       | 0.484     | 0.419     | 0.904     |\n",
       "| 2017-2018 | 25.5      | 5.4       | 6.1       | 0.451     | 0.395     | 0.957     |\n",
       "| 2018-2019 | 28.2      | 5.7       | 6         | 0.441     | 0.377     | 0.943     |\n",
       "\n"
      ],
      "text/plain": [
       "  Season    PTS  AST REB FG%   3P%   FT%  \n",
       "1 2012-2013 23.4 8.1 3.8 0.434 0.396 0.921\n",
       "2 2013-2014 23   8.4 3.6 0.44  0.386 0.881\n",
       "3 2014-2015 28.3 6.4 5   0.456 0.422 0.835\n",
       "4 2015-2016 25.1 5.2 5.5 0.438 0.404 0.916\n",
       "5 2016-2017 28.1 6.7 6.2 0.484 0.419 0.904\n",
       "6 2017-2018 25.5 5.4 6.1 0.451 0.395 0.957\n",
       "7 2018-2019 28.2 5.7 6   0.441 0.377 0.943"
      ]
     },
     "metadata": {},
     "output_type": "display_data"
    }
   ],
   "source": [
    "Post"
   ]
  },
  {
   "cell_type": "code",
   "execution_count": 16,
   "id": "fea27017",
   "metadata": {},
   "outputs": [],
   "source": [
    "mPost <- melt(Post, 'Season') #modifying dataframe to fit into ggplot much easier\n",
    "mPost$value <- as.numeric(mPost$value)"
   ]
  },
  {
   "cell_type": "code",
   "execution_count": 17,
   "id": "30baa725",
   "metadata": {},
   "outputs": [
    {
     "data": {
      "image/png": "[encoded data removed]",
      "text/plain": [
       "plot without title"
      ]
     },
     "metadata": {},
     "output_type": "display_data"
    }
   ],
   "source": [
    "PostPlot1 <- ggplot(mPost[1:21,], aes(x=Season, y=value, group=variable, color=variable)) +\n",
    "             geom_line(size=1) +\n",
    "             geom_point(size=4) +\n",
    "             scale_y_continuous(limits = c(0,30), breaks=seq(0,30,5))\n",
    "PostPlot1 <- PostPlot1 + theme(axis.text.x = element_text(angle=45, vjust=1, hjust=1))\n",
    "PostPlot1"
   ]
  },
  {
   "cell_type": "code",
   "execution_count": 18,
   "id": "643bf642",
   "metadata": {},
   "outputs": [
    {
     "data": {
      "image/png": "[encoded data removed]",
      "text/plain": [
       "plot without title"
      ]
     },
     "metadata": {},
     "output_type": "display_data"
    }
   ],
   "source": [
    "PostPlot2 <- ggplot(mPost[22:42,], aes(x=Season, y=value, group=variable, color=variable)) +\n",
    "             geom_line(size=1) + \n",
    "            geom_point(size=4) +\n",
    "             scale_y_continuous(limits = c(0,1), breaks=seq(0,1,0.1), labels=scales::percent)\n",
    "PostPlot2 <- PostPlot2 + theme(axis.text.x = element_text(angle=45, vjust=1, hjust=1))\n",
    "PostPlot2"
   ]
  },
  {
   "cell_type": "markdown",
   "id": "040991f3",
   "metadata": {},
   "source": [
    "#### Observation:\n",
    "* Curry has three post seasons where he averages more than 28 `PTS`\n",
    "* Curry continually increased his `REB` after the 2013-2014 post season\n",
    "* Curry has the best shooting split with 48.4/41.9/90.4 (`FG%`/`3P%`/`FT%`) in the 2016-2017 post season\n",
    "\n",
    "## Best Regular and Post Season\n",
    "Let's look at his `2020-2021` regular season where he averaged the most on two of the statistical category, `PTS`and `REB`, and compare it with his Unanimous MVP season `2015-2016`."
   ]
  },
  {
   "cell_type": "code",
   "execution_count": 19,
   "id": "872c1381",
   "metadata": {},
   "outputs": [],
   "source": [
    "rCompare <- Regular[c(6,10),]\n",
    "mrCompare <- melt(rCompare, 'Season')\n",
    "mrCompare$value <- as.numeric(mrCompare$value)"
   ]
  },
  {
   "cell_type": "code",
   "execution_count": 20,
   "id": "893a8439",
   "metadata": {},
   "outputs": [
    {
     "data": {
      "text/html": [
       "<table>\n",
       "<thead><tr><th></th><th scope=col>Season</th><th scope=col>PTS</th><th scope=col>AST</th><th scope=col>REB</th><th scope=col>FG%</th><th scope=col>3P%</th><th scope=col>FT%</th></tr></thead>\n",
       "<tbody>\n",
       "\t<tr><th scope=row>6</th><td>2015-2016</td><td>30.1     </td><td>6.7      </td><td>5.4      </td><td>0.504    </td><td>0.454    </td><td>0.908    </td></tr>\n",
       "\t<tr><th scope=row>10</th><td>2020-2021</td><td>32       </td><td>5.8      </td><td>5.5      </td><td>0.482    </td><td>0.421    </td><td>0.916    </td></tr>\n",
       "</tbody>\n",
       "</table>\n"
      ],
      "text/latex": [
       "\\begin{tabular}{r|lllllll}\n",
       "  & Season & PTS & AST & REB & FG\\% & 3P\\% & FT\\%\\\\\n",
       "\\hline\n",
       "\t6 & 2015-2016 & 30.1      & 6.7       & 5.4       & 0.504     & 0.454     & 0.908    \\\\\n",
       "\t10 & 2020-2021 & 32        & 5.8       & 5.5       & 0.482     & 0.421     & 0.916    \\\\\n",
       "\\end{tabular}\n"
      ],
      "text/markdown": [
       "\n",
       "| <!--/--> | Season | PTS | AST | REB | FG% | 3P% | FT% |\n",
       "|---|---|---|---|---|---|---|---|\n",
       "| 6 | 2015-2016 | 30.1      | 6.7       | 5.4       | 0.504     | 0.454     | 0.908     |\n",
       "| 10 | 2020-2021 | 32        | 5.8       | 5.5       | 0.482     | 0.421     | 0.916     |\n",
       "\n"
      ],
      "text/plain": [
       "   Season    PTS  AST REB FG%   3P%   FT%  \n",
       "6  2015-2016 30.1 6.7 5.4 0.504 0.454 0.908\n",
       "10 2020-2021 32   5.8 5.5 0.482 0.421 0.916"
      ]
     },
     "metadata": {},
     "output_type": "display_data"
    }
   ],
   "source": [
    "rCompare"
   ]
  },
  {
   "cell_type": "code",
   "execution_count": 21,
   "id": "70780958",
   "metadata": {},
   "outputs": [
    {
     "data": {
      "image/png": "[encoded data removed]",
      "text/plain": [
       "plot without title"
      ]
     },
     "metadata": {},
     "output_type": "display_data"
    }
   ],
   "source": [
    "rCPlot1 <- ggplot(mrCompare[1:6,], aes(x=Season, y=value, fill=Season)) +\n",
    "          geom_bar(stat='identity', position='dodge') +\n",
    "          scale_y_continuous(limits = c(0,35), breaks=seq(0,35,5)) + facet_grid(~ variable)\n",
    "rCPlot1"
   ]
  },
  {
   "cell_type": "code",
   "execution_count": 22,
   "id": "13da8492",
   "metadata": {},
   "outputs": [
    {
     "data": {
      "image/png": "[encoded data removed]",
      "text/plain": [
       "plot without title"
      ]
     },
     "metadata": {},
     "output_type": "display_data"
    }
   ],
   "source": [
    "rCPlot2 <- ggplot(mrCompare[7:12,], aes(x=Season, y=value, fill=Season)) +\n",
    "          geom_bar(stat='identity', position='dodge') +\n",
    "          scale_y_continuous(limits = c(0,1), breaks=seq(0,1,.1), labels=scales::percent) + facet_grid(~ variable)\n",
    "rCPlot2"
   ]
  },
  {
   "cell_type": "markdown",
   "id": "137bca2e",
   "metadata": {},
   "source": [
    "Curry had a higher average `PTS` and `FT%` with a miniscule difference in `REB` in the `2020-2021` regular season; however, in every other statistical category, Curry had a higher average in the `2015-2016` regular season. Reaching the 50/45/90 shooting split in his Unanimous MVP season makes him more efficient than other seasons. Thus we will claim that the `2015-2016` regular season is the best version of Curry.\n",
    "\n",
    "Now let's compare his best post-season; the `2016-2017` post-season and the `2018-2019` post-season."
   ]
  },
  {
   "cell_type": "code",
   "execution_count": 23,
   "id": "ca760208",
   "metadata": {},
   "outputs": [],
   "source": [
    "pCompare <- Post[c(5,7),]\n",
    "mpCompare <- melt(pCompare, 'Season')\n",
    "mpCompare$value <- as.numeric(mpCompare$value)"
   ]
  },
  {
   "cell_type": "code",
   "execution_count": 24,
   "id": "ec4a418e",
   "metadata": {},
   "outputs": [
    {
     "data": {
      "text/html": [
       "<table>\n",
       "<thead><tr><th></th><th scope=col>Season</th><th scope=col>PTS</th><th scope=col>AST</th><th scope=col>REB</th><th scope=col>FG%</th><th scope=col>3P%</th><th scope=col>FT%</th></tr></thead>\n",
       "<tbody>\n",
       "\t<tr><th scope=row>5</th><td>2016-2017</td><td>28.1     </td><td>6.7      </td><td>6.2      </td><td>0.484    </td><td>0.419    </td><td>0.904    </td></tr>\n",
       "\t<tr><th scope=row>7</th><td>2018-2019</td><td>28.2     </td><td>5.7      </td><td>6        </td><td>0.441    </td><td>0.377    </td><td>0.943    </td></tr>\n",
       "</tbody>\n",
       "</table>\n"
      ],
      "text/latex": [
       "\\begin{tabular}{r|lllllll}\n",
       "  & Season & PTS & AST & REB & FG\\% & 3P\\% & FT\\%\\\\\n",
       "\\hline\n",
       "\t5 & 2016-2017 & 28.1      & 6.7       & 6.2       & 0.484     & 0.419     & 0.904    \\\\\n",
       "\t7 & 2018-2019 & 28.2      & 5.7       & 6         & 0.441     & 0.377     & 0.943    \\\\\n",
       "\\end{tabular}\n"
      ],
      "text/markdown": [
       "\n",
       "| <!--/--> | Season | PTS | AST | REB | FG% | 3P% | FT% |\n",
       "|---|---|---|---|---|---|---|---|\n",
       "| 5 | 2016-2017 | 28.1      | 6.7       | 6.2       | 0.484     | 0.419     | 0.904     |\n",
       "| 7 | 2018-2019 | 28.2      | 5.7       | 6         | 0.441     | 0.377     | 0.943     |\n",
       "\n"
      ],
      "text/plain": [
       "  Season    PTS  AST REB FG%   3P%   FT%  \n",
       "5 2016-2017 28.1 6.7 6.2 0.484 0.419 0.904\n",
       "7 2018-2019 28.2 5.7 6   0.441 0.377 0.943"
      ]
     },
     "metadata": {},
     "output_type": "display_data"
    }
   ],
   "source": [
    "pCompare"
   ]
  },
  {
   "cell_type": "code",
   "execution_count": 25,
   "id": "89a0c8c5",
   "metadata": {},
   "outputs": [
    {
     "data": {
      "image/png": "[encoded data removed]",
      "text/plain": [
       "plot without title"
      ]
     },
     "metadata": {},
     "output_type": "display_data"
    }
   ],
   "source": [
    "pCPlot1 <- ggplot(mpCompare[1:6,], aes(x=Season, y=value, fill=Season)) +\n",
    "           geom_bar(stat='identity', position='dodge') +\n",
    "           scale_y_continuous(limits = c(0,30), breaks=seq(0,30,5)) + facet_grid(~ variable)\n",
    "pCPlot1"
   ]
  },
  {
   "cell_type": "code",
   "execution_count": 26,
   "id": "0ed3e1a1",
   "metadata": {},
   "outputs": [
    {
     "data": {
      "image/png": "[encoded data removed]",
      "text/plain": [
       "plot without title"
      ]
     },
     "metadata": {},
     "output_type": "display_data"
    }
   ],
   "source": [
    "pCPlot2 <- ggplot(mpCompare[7:12,], aes(x=Season, y=value, fill=Season)) +\n",
    "           geom_bar(stat='identity', position='dodge') +\n",
    "           scale_y_continuous(limits = c(0,1), breaks=seq(0,1,.1), labels=scales::percent) + facet_grid(~ variable)\n",
    "pCPlot2"
   ]
  },
  {
   "cell_type": "markdown",
   "id": "26ebe6a4",
   "metadata": {},
   "source": [
    "Curry had a higher average in every statistical category except `FT%` and a miniscule difference in `PTS` in the `2016-2017` season. The `2018-2019` post-season averaged higher `PTS`, however `2016-2017` had better efficiency almost reaching 50/40/90 shooting split. Thus we will claim that the `2016-2017` post-season was the best Curry played.\n",
    "\n",
    "## Hypothesis Testing\n",
    "\n",
    "We will be calculating a new column called `TS%` and use t.test to see if it is statistically significant.\n",
    "   * `TS%` = `PTS` / (2 x `TSA`)\n",
    "   * `TSA` = `FGA` + (0.44 x `FTA`)\n",
    "\n",
    "### Regular Season\n",
    "Our claim was `2015-2016` regular season is better than the `2020-2021` regular season"
   ]
  },
  {
   "cell_type": "code",
   "execution_count": 48,
   "id": "c20ceafe",
   "metadata": {},
   "outputs": [],
   "source": [
    "bestReg <- subset(RegSeason, Season_year=='2015-2016' | Season_year=='2020-2021')\n",
    "bestReg$TS <- eval(parse(text='PTS/(2 * (FGA + (0.44 * FTA)))'), bestReg)"
   ]
  },
  {
   "cell_type": "code",
   "execution_count": 49,
   "id": "31f972d3",
   "metadata": {},
   "outputs": [
    {
     "data": {
      "text/html": [
       "0.664275134686783"
      ],
      "text/latex": [
       "0.664275134686783"
      ],
      "text/markdown": [
       "0.664275134686783"
      ],
      "text/plain": [
       "[1] 0.6642751"
      ]
     },
     "metadata": {},
     "output_type": "display_data"
    },
    {
     "data": {
      "text/html": [
       "0.650348230910764"
      ],
      "text/latex": [
       "0.650348230910764"
      ],
      "text/markdown": [
       "0.650348230910764"
      ],
      "text/plain": [
       "[1] 0.6503482"
      ]
     },
     "metadata": {},
     "output_type": "display_data"
    }
   ],
   "source": [
    "mean(bestReg[bestReg$Season_year=='2015-2016',]$TS)\n",
    "mean(bestReg[bestReg$Season_year=='2020-2021',]$TS)"
   ]
  },
  {
   "cell_type": "code",
   "execution_count": 50,
   "id": "24e3b77c",
   "metadata": {},
   "outputs": [
    {
     "data": {
      "text/plain": [
       "\n",
       "\tWelch Two Sample t-test\n",
       "\n",
       "data:  bestReg[bestReg$Season_year == \"2020-2021\", ]$TS and bestReg[bestReg$Season_year == \"2015-2016\", ]$TS\n",
       "t = -0.5804, df = 131.55, p-value = 0.5626\n",
       "alternative hypothesis: true difference in means is not equal to 0\n",
       "99 percent confidence interval:\n",
       " -0.07664350  0.04878969\n",
       "sample estimates:\n",
       "mean of x mean of y \n",
       "0.6503482 0.6642751 \n"
      ]
     },
     "metadata": {},
     "output_type": "display_data"
    }
   ],
   "source": [
    "t.test(bestReg[bestReg$Season_year=='2020-2021',]$TS, bestReg[bestReg$Season_year=='2015-2016',]$TS, \n",
    "       alternative='two.sided', conf.level= 0.99)"
   ]
  },
  {
   "cell_type": "markdown",
   "id": "b4d2fd93",
   "metadata": {},
   "source": [
    "### Post Season\n",
    "Our claim was `2016-2017` post season is better than the `2018-2019` post season"
   ]
  },
  {
   "cell_type": "code",
   "execution_count": 43,
   "id": "54a1f7a7",
   "metadata": {},
   "outputs": [],
   "source": [
    "bestPost <- subset(PostSeason, Season_year=='2016-2017' | Season_year=='2018-2019')\n",
    "bestPost$TS <- eval(parse(text='PTS/(2 * (FGA + (0.44 * FTA)))'), bestPost)"
   ]
  },
  {
   "cell_type": "code",
   "execution_count": 45,
   "id": "3ee14cef",
   "metadata": {},
   "outputs": [
    {
     "data": {
      "text/html": [
       "0.628544125381479"
      ],
      "text/latex": [
       "0.628544125381479"
      ],
      "text/markdown": [
       "0.628544125381479"
      ],
      "text/plain": [
       "[1] 0.6285441"
      ]
     },
     "metadata": {},
     "output_type": "display_data"
    },
    {
     "data": {
      "text/html": [
       "0.657491174604769"
      ],
      "text/latex": [
       "0.657491174604769"
      ],
      "text/markdown": [
       "0.657491174604769"
      ],
      "text/plain": [
       "[1] 0.6574912"
      ]
     },
     "metadata": {},
     "output_type": "display_data"
    }
   ],
   "source": [
    "mean(bestReg[bestPost$Season_year=='2016-2017',]$TS)\n",
    "mean(bestReg[bestPost$Season_year=='2018-2019',]$TS)"
   ]
  },
  {
   "cell_type": "code",
   "execution_count": 46,
   "id": "0db7ffb7",
   "metadata": {},
   "outputs": [
    {
     "data": {
      "text/plain": [
       "\n",
       "\tWelch Two Sample t-test\n",
       "\n",
       "data:  bestReg[bestPost$Season_year == \"2018-2019\", ]$TS and bestReg[bestReg$Season_year == \"2016-2017\", ]$TS\n",
       "t = 1.3892, df = 164.28, p-value = 0.1667\n",
       "alternative hypothesis: true difference in means is not equal to 0\n",
       "99 percent confidence interval:\n",
       " -0.02841097  0.09327745\n",
       "sample estimates:\n",
       "mean of x mean of y \n",
       "0.6574912 0.6250579 \n"
      ]
     },
     "metadata": {},
     "output_type": "display_data"
    }
   ],
   "source": [
    "t.test(bestReg[bestPost$Season_year=='2018-2019',]$TS, bestReg[bestReg$Season_year=='2016-2017',]$TS, \n",
    "       alternative='two.sided', conf.level= 0.99)"
   ]
  },
  {
   "cell_type": "markdown",
   "id": "01b371fc",
   "metadata": {},
   "source": [
    "## Conclusion\n",
    "\n",
    "Based on our `TS%` metric, we have evidence that the `2015-2016` regular season was better than `2020-2021`. However, with our `p-value` > 0.05, this shows that our evidence is not strong enough to suggest that an effect exists in the population. Similar can be said for the post-seasons `2016-2017` and `2018-2019`. Our claim was wrong based on the `TS%` metric, but again, since `p-value` > 0.05, no effect  was obsserved."
   ]
  },
  {
   "cell_type": "code",
   "execution_count": null,
   "id": "150d367b",
   "metadata": {},
   "outputs": [],
   "source": []
  }
 ],
 "metadata": {
  "kernelspec": {
   "display_name": "R",
   "language": "R",
   "name": "ir"
  },
  "language_info": {
   "codemirror_mode": "r",
   "file_extension": ".r",
   "mimetype": "text/x-r-source",
   "name": "R",
   "pygments_lexer": "r",
   "version": "3.6.1"
  }
 },
 "nbformat": 4,
 "nbformat_minor": 5
}
