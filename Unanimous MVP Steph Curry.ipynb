{
 "cells": [
  {
   "cell_type": "markdown",
   "id": "59bc8c44",
   "metadata": {},
   "source": [
    "# Is Unanimous MVP Stephen Curry the Best Curry?\n",
    "Stephen Curry is considered the best shooter the NBA has ever seen. He is the first player to receive an unanimous MVP in NBA history during the 2015-2016 season. Many analyst and reporters concluded that Stephen Curry's best season was during his unanimous MVP season. The goal of this notebook is to analyze Stephen Curry's regular season stats and determine whether what the analyst and reporters said are accurate.\n",
    "\n",
    "### Connecting to local PostgreSQL Database\n",
    "We will be obtaining our tables from a locally hosted database that has Stephen Curry's regular season stats for each season he was active. Our database is obtained by using a python script that access the NBA API to return the most recent stats."
   ]
  },
  {
   "cell_type": "code",
   "execution_count": 1,
   "id": "8d69329d",
   "metadata": {},
   "outputs": [],
   "source": [
    "library(DBI)\n",
    "library(stringr)\n",
    "library(RPostgres)"
   ]
  },
  {
   "cell_type": "code",
   "execution_count": 3,
   "id": "a39c346c",
   "metadata": {},
   "outputs": [
    {
     "name": "stdout",
     "output_type": "stream",
     "text": [
      "[1] \"Connecting to Database…\"\n",
      "[1] \"Database Connected!\"\n"
     ]
    }
   ],
   "source": [
    "tryCatch({\n",
    "    print(\"Connecting to Database…\")\n",
    "    con <- dbConnect(RPostgres::Postgres(),dbname = dsn_database, \n",
    "                 host = dsn_hostname,\n",
    "                 port = 5432,\n",
    "                 user = dsn_uid,\n",
    "                 password = dsn_pwd)\n",
    "    print(\"Database Connected!\")\n",
    "    },\n",
    "    error=function(cond) {\n",
    "            print(\"Unable to connect to Database.\")\n",
    "    })"
   ]
  },
  {
   "cell_type": "code",
   "execution_count": 4,
   "id": "91a99220",
   "metadata": {},
   "outputs": [
    {
     "data": {
      "text/html": [
       "<style>\n",
       ".list-inline {list-style: none; margin:0; padding: 0}\n",
       ".list-inline>li {display: inline-block}\n",
       ".list-inline>li:not(:last-child)::after {content: \"\\00b7\"; padding: 0 .5ex}\n",
       "</style>\n",
       "<ol class=list-inline><li>'season_2009'</li><li>'season_2010'</li><li>'season_2011'</li><li>'season_2012'</li><li>'season_2013'</li><li>'season_2014'</li><li>'season_2015'</li><li>'season_2016'</li><li>'season_2017'</li><li>'season_2018'</li><li>'season_2019'</li><li>'season_2020'</li><li>'season_2021'</li><li>'season_2022'</li></ol>\n"
      ],
      "text/latex": [
       "\\begin{enumerate*}\n",
       "\\item 'season\\_2009'\n",
       "\\item 'season\\_2010'\n",
       "\\item 'season\\_2011'\n",
       "\\item 'season\\_2012'\n",
       "\\item 'season\\_2013'\n",
       "\\item 'season\\_2014'\n",
       "\\item 'season\\_2015'\n",
       "\\item 'season\\_2016'\n",
       "\\item 'season\\_2017'\n",
       "\\item 'season\\_2018'\n",
       "\\item 'season\\_2019'\n",
       "\\item 'season\\_2020'\n",
       "\\item 'season\\_2021'\n",
       "\\item 'season\\_2022'\n",
       "\\end{enumerate*}\n"
      ],
      "text/markdown": [
       "1. 'season_2009'\n",
       "2. 'season_2010'\n",
       "3. 'season_2011'\n",
       "4. 'season_2012'\n",
       "5. 'season_2013'\n",
       "6. 'season_2014'\n",
       "7. 'season_2015'\n",
       "8. 'season_2016'\n",
       "9. 'season_2017'\n",
       "10. 'season_2018'\n",
       "11. 'season_2019'\n",
       "12. 'season_2020'\n",
       "13. 'season_2021'\n",
       "14. 'season_2022'\n",
       "\n",
       "\n"
      ],
      "text/plain": [
       " [1] \"season_2009\" \"season_2010\" \"season_2011\" \"season_2012\" \"season_2013\"\n",
       " [6] \"season_2014\" \"season_2015\" \"season_2016\" \"season_2017\" \"season_2018\"\n",
       "[11] \"season_2019\" \"season_2020\" \"season_2021\" \"season_2022\""
      ]
     },
     "metadata": {},
     "output_type": "display_data"
    }
   ],
   "source": [
    "tables <- dbListTables(con)\n",
    "tables"
   ]
  },
  {
   "cell_type": "code",
   "execution_count": 5,
   "id": "3ffa952b",
   "metadata": {},
   "outputs": [
    {
     "data": {
      "text/html": [
       "<table class=\"dataframe\">\n",
       "<caption>A data.frame: 5 × 28</caption>\n",
       "<thead>\n",
       "\t<tr><th scope=col>index</th><th scope=col>SEASON_ID</th><th scope=col>Player_ID</th><th scope=col>Game_ID</th><th scope=col>GAME_DATE</th><th scope=col>MATCHUP</th><th scope=col>WL</th><th scope=col>MIN</th><th scope=col>FGM</th><th scope=col>FGA</th><th scope=col>...</th><th scope=col>DREB</th><th scope=col>REB</th><th scope=col>AST</th><th scope=col>STL</th><th scope=col>BLK</th><th scope=col>TOV</th><th scope=col>PF</th><th scope=col>PTS</th><th scope=col>PLUS_MINUS</th><th scope=col>VIDEO_AVAILABLE</th></tr>\n",
       "\t<tr><th scope=col>&lt;int64&gt;</th><th scope=col>&lt;chr&gt;</th><th scope=col>&lt;int64&gt;</th><th scope=col>&lt;chr&gt;</th><th scope=col>&lt;chr&gt;</th><th scope=col>&lt;chr&gt;</th><th scope=col>&lt;chr&gt;</th><th scope=col>&lt;int64&gt;</th><th scope=col>&lt;int64&gt;</th><th scope=col>&lt;int64&gt;</th><th scope=col>...</th><th scope=col>&lt;int64&gt;</th><th scope=col>&lt;int64&gt;</th><th scope=col>&lt;int64&gt;</th><th scope=col>&lt;int64&gt;</th><th scope=col>&lt;int64&gt;</th><th scope=col>&lt;int64&gt;</th><th scope=col>&lt;int64&gt;</th><th scope=col>&lt;int64&gt;</th><th scope=col>&lt;int64&gt;</th><th scope=col>&lt;int64&gt;</th></tr>\n",
       "</thead>\n",
       "<tbody>\n",
       "\t<tr><td>0</td><td>22019</td><td>201939</td><td>0021900929</td><td>MAR 05, 2020</td><td>GSW vs. TOR</td><td>L</td><td>27</td><td>6</td><td>16</td><td>...</td><td>6</td><td>6</td><td> 7</td><td>0</td><td>0</td><td>1</td><td>1</td><td>23</td><td>-13</td><td>1</td></tr>\n",
       "\t<tr><td>1</td><td>22019</td><td>201939</td><td>0021900065</td><td>OCT 30, 2019</td><td>GSW vs. PHX</td><td>L</td><td>21</td><td>3</td><td>11</td><td>...</td><td>5</td><td>5</td><td> 6</td><td>1</td><td>2</td><td>4</td><td>2</td><td> 9</td><td>-13</td><td>2</td></tr>\n",
       "\t<tr><td>2</td><td>22019</td><td>201939</td><td>0021900047</td><td>OCT 28, 2019</td><td>GSW @ NOP  </td><td>W</td><td>31</td><td>9</td><td>17</td><td>...</td><td>2</td><td>3</td><td>11</td><td>3</td><td>0</td><td>1</td><td>5</td><td>26</td><td> 32</td><td>1</td></tr>\n",
       "\t<tr><td>3</td><td>22019</td><td>201939</td><td>0021900036</td><td>OCT 27, 2019</td><td>GSW @ OKC  </td><td>L</td><td>30</td><td>7</td><td>18</td><td>...</td><td>6</td><td>8</td><td> 5</td><td>0</td><td>0</td><td>2</td><td>0</td><td>23</td><td>-30</td><td>1</td></tr>\n",
       "\t<tr><td>4</td><td>22019</td><td>201939</td><td>0021900016</td><td>OCT 24, 2019</td><td>GSW vs. LAC</td><td>L</td><td>30</td><td>8</td><td>20</td><td>...</td><td>3</td><td>4</td><td> 4</td><td>1</td><td>0</td><td>8</td><td>3</td><td>23</td><td>-19</td><td>1</td></tr>\n",
       "</tbody>\n",
       "</table>\n"
      ],
      "text/latex": [
       "A data.frame: 5 × 28\n",
       "\\begin{tabular}{lllllllllllllllllllll}\n",
       " index & SEASON\\_ID & Player\\_ID & Game\\_ID & GAME\\_DATE & MATCHUP & WL & MIN & FGM & FGA & ... & DREB & REB & AST & STL & BLK & TOV & PF & PTS & PLUS\\_MINUS & VIDEO\\_AVAILABLE\\\\\n",
       " <int64> & <chr> & <int64> & <chr> & <chr> & <chr> & <chr> & <int64> & <int64> & <int64> & ... & <int64> & <int64> & <int64> & <int64> & <int64> & <int64> & <int64> & <int64> & <int64> & <int64>\\\\\n",
       "\\hline\n",
       "\t 0 & 22019 & 201939 & 0021900929 & MAR 05, 2020 & GSW vs. TOR & L & 27 & 6 & 16 & ... & 6 & 6 &  7 & 0 & 0 & 1 & 1 & 23 & -13 & 1\\\\\n",
       "\t 1 & 22019 & 201939 & 0021900065 & OCT 30, 2019 & GSW vs. PHX & L & 21 & 3 & 11 & ... & 5 & 5 &  6 & 1 & 2 & 4 & 2 &  9 & -13 & 2\\\\\n",
       "\t 2 & 22019 & 201939 & 0021900047 & OCT 28, 2019 & GSW @ NOP   & W & 31 & 9 & 17 & ... & 2 & 3 & 11 & 3 & 0 & 1 & 5 & 26 &  32 & 1\\\\\n",
       "\t 3 & 22019 & 201939 & 0021900036 & OCT 27, 2019 & GSW @ OKC   & L & 30 & 7 & 18 & ... & 6 & 8 &  5 & 0 & 0 & 2 & 0 & 23 & -30 & 1\\\\\n",
       "\t 4 & 22019 & 201939 & 0021900016 & OCT 24, 2019 & GSW vs. LAC & L & 30 & 8 & 20 & ... & 3 & 4 &  4 & 1 & 0 & 8 & 3 & 23 & -19 & 1\\\\\n",
       "\\end{tabular}\n"
      ],
      "text/markdown": [
       "\n",
       "A data.frame: 5 × 28\n",
       "\n",
       "| index &lt;int64&gt; | SEASON_ID &lt;chr&gt; | Player_ID &lt;int64&gt; | Game_ID &lt;chr&gt; | GAME_DATE &lt;chr&gt; | MATCHUP &lt;chr&gt; | WL &lt;chr&gt; | MIN &lt;int64&gt; | FGM &lt;int64&gt; | FGA &lt;int64&gt; | ... ... | DREB &lt;int64&gt; | REB &lt;int64&gt; | AST &lt;int64&gt; | STL &lt;int64&gt; | BLK &lt;int64&gt; | TOV &lt;int64&gt; | PF &lt;int64&gt; | PTS &lt;int64&gt; | PLUS_MINUS &lt;int64&gt; | VIDEO_AVAILABLE &lt;int64&gt; |\n",
       "|---|---|---|---|---|---|---|---|---|---|---|---|---|---|---|---|---|---|---|---|---|\n",
       "| 0 | 22019 | 201939 | 0021900929 | MAR 05, 2020 | GSW vs. TOR | L | 27 | 6 | 16 | ... | 6 | 6 |  7 | 0 | 0 | 1 | 1 | 23 | -13 | 1 |\n",
       "| 1 | 22019 | 201939 | 0021900065 | OCT 30, 2019 | GSW vs. PHX | L | 21 | 3 | 11 | ... | 5 | 5 |  6 | 1 | 2 | 4 | 2 |  9 | -13 | 2 |\n",
       "| 2 | 22019 | 201939 | 0021900047 | OCT 28, 2019 | GSW @ NOP   | W | 31 | 9 | 17 | ... | 2 | 3 | 11 | 3 | 0 | 1 | 5 | 26 |  32 | 1 |\n",
       "| 3 | 22019 | 201939 | 0021900036 | OCT 27, 2019 | GSW @ OKC   | L | 30 | 7 | 18 | ... | 6 | 8 |  5 | 0 | 0 | 2 | 0 | 23 | -30 | 1 |\n",
       "| 4 | 22019 | 201939 | 0021900016 | OCT 24, 2019 | GSW vs. LAC | L | 30 | 8 | 20 | ... | 3 | 4 |  4 | 1 | 0 | 8 | 3 | 23 | -19 | 1 |\n",
       "\n"
      ],
      "text/plain": [
       "  index SEASON_ID Player_ID Game_ID    GAME_DATE    MATCHUP     WL MIN FGM FGA\n",
       "1 0     22019     201939    0021900929 MAR 05, 2020 GSW vs. TOR L  27  6   16 \n",
       "2 1     22019     201939    0021900065 OCT 30, 2019 GSW vs. PHX L  21  3   11 \n",
       "3 2     22019     201939    0021900047 OCT 28, 2019 GSW @ NOP   W  31  9   17 \n",
       "4 3     22019     201939    0021900036 OCT 27, 2019 GSW @ OKC   L  30  7   18 \n",
       "5 4     22019     201939    0021900016 OCT 24, 2019 GSW vs. LAC L  30  8   20 \n",
       "  ... DREB REB AST STL BLK TOV PF PTS PLUS_MINUS VIDEO_AVAILABLE\n",
       "1 ... 6    6    7  0   0   1   1  23  -13        1              \n",
       "2 ... 5    5    6  1   2   4   2   9  -13        2              \n",
       "3 ... 2    3   11  3   0   1   5  26   32        1              \n",
       "4 ... 6    8    5  0   0   2   0  23  -30        1              \n",
       "5 ... 3    4    4  1   0   8   3  23  -19        1              "
      ]
     },
     "metadata": {},
     "output_type": "display_data"
    }
   ],
   "source": [
    "dbReadTable(con, 'season_2019')"
   ]
  },
  {
   "cell_type": "code",
   "execution_count": 6,
   "id": "68c19b91",
   "metadata": {},
   "outputs": [
    {
     "name": "stdout",
     "output_type": "stream",
     "text": [
      "Games played in 2009 Season: 80 \n",
      "Games played in 2010 Season: 74 \n",
      "Games played in 2011 Season: 26 \n",
      "Games played in 2012 Season: 78 \n",
      "Games played in 2013 Season: 78 \n",
      "Games played in 2014 Season: 80 \n",
      "Games played in 2015 Season: 79 \n",
      "Games played in 2016 Season: 79 \n",
      "Games played in 2017 Season: 51 \n",
      "Games played in 2018 Season: 69 \n",
      "Games played in 2019 Season: 5 \n",
      "Games played in 2020 Season: 63 \n",
      "Games played in 2021 Season: 64 \n",
      "Games played in 2022 Season: 50 \n"
     ]
    }
   ],
   "source": [
    "for (x in tables){\n",
    "    query <- paste(\"SELECT COUNT(*) FROM\", x)\n",
    "    nGames <- dbGetQuery(con, query)\n",
    "    cat('Games played in', str_sub(x, -4, -1), 'Season:', as.integer(nGames$count), '\\n')\n",
    "}"
   ]
  },
  {
   "cell_type": "markdown",
   "id": "c335d3ea",
   "metadata": {},
   "source": [
    "### Visualizing The Data\n",
    "We will be using Points, Assist, Rebounds and Curry's shooting splits to determine his best year and compare with his Unanimous MVP season. We will use query to grab all the data we need. Then use GgPlot to create line charts for the dataframe presenting the averages for each season."
   ]
  },
  {
   "cell_type": "code",
   "execution_count": 7,
   "id": "dce467e6",
   "metadata": {},
   "outputs": [],
   "source": [
    "library(ggplot2)\n",
    "library(reshape2)\n",
    "options(repr.plot.width=12 ,repr.plot.height=8)"
   ]
  },
  {
   "cell_type": "code",
   "execution_count": 8,
   "id": "7b200bcc",
   "metadata": {},
   "outputs": [],
   "source": [
    "commonstats <- data.frame(matrix(ncol=4, nrow=14))\n",
    "colnames(commonstats) <- c('Season', 'PTS', 'AST', 'REB')"
   ]
  },
  {
   "cell_type": "code",
   "execution_count": 9,
   "id": "8417f843",
   "metadata": {},
   "outputs": [],
   "source": [
    "for (x in 1:14){\n",
    "    query <- paste('SELECT AVG(\"PTS\"), AVG(\"AST\"), AVG(\"REB\") FROM', tables[x])\n",
    "    common <- dbGetQuery(con, query)\n",
    "    commonstats[x,] <- c(str_sub(tables[x], -4, -1), \n",
    "                        round(common$avg, digits=1),\n",
    "                        round(common$avg..2, digits=1),\n",
    "                        round(common$avg..3, digits=1))\n",
    "}"
   ]
  },
  {
   "cell_type": "code",
   "execution_count": 10,
   "id": "60f07b73",
   "metadata": {},
   "outputs": [
    {
     "data": {
      "text/html": [
       "<table class=\"dataframe\">\n",
       "<caption>A data.frame: 14 × 4</caption>\n",
       "<thead>\n",
       "\t<tr><th scope=col>Season</th><th scope=col>PTS</th><th scope=col>AST</th><th scope=col>REB</th></tr>\n",
       "\t<tr><th scope=col>&lt;chr&gt;</th><th scope=col>&lt;chr&gt;</th><th scope=col>&lt;chr&gt;</th><th scope=col>&lt;chr&gt;</th></tr>\n",
       "</thead>\n",
       "<tbody>\n",
       "\t<tr><td>2009</td><td>17.5</td><td>5.9</td><td>4.4</td></tr>\n",
       "\t<tr><td>2010</td><td>18.6</td><td>5.8</td><td>3.9</td></tr>\n",
       "\t<tr><td>2011</td><td>14.7</td><td>5.3</td><td>3.4</td></tr>\n",
       "\t<tr><td>2012</td><td>22.9</td><td>6.9</td><td>4  </td></tr>\n",
       "\t<tr><td>2013</td><td>24  </td><td>8.5</td><td>4.3</td></tr>\n",
       "\t<tr><td>2014</td><td>23.8</td><td>7.7</td><td>4.3</td></tr>\n",
       "\t<tr><td>2015</td><td>30.1</td><td>6.7</td><td>5.4</td></tr>\n",
       "\t<tr><td>2016</td><td>25.3</td><td>6.6</td><td>4.5</td></tr>\n",
       "\t<tr><td>2017</td><td>26.4</td><td>6.1</td><td>5.1</td></tr>\n",
       "\t<tr><td>2018</td><td>27.3</td><td>5.2</td><td>5.3</td></tr>\n",
       "\t<tr><td>2019</td><td>20.8</td><td>6.6</td><td>5.2</td></tr>\n",
       "\t<tr><td>2020</td><td>32  </td><td>5.8</td><td>5.5</td></tr>\n",
       "\t<tr><td>2021</td><td>25.5</td><td>6.3</td><td>5.2</td></tr>\n",
       "\t<tr><td>2022</td><td>29.4</td><td>6.3</td><td>6.2</td></tr>\n",
       "</tbody>\n",
       "</table>\n"
      ],
      "text/latex": [
       "A data.frame: 14 × 4\n",
       "\\begin{tabular}{llll}\n",
       " Season & PTS & AST & REB\\\\\n",
       " <chr> & <chr> & <chr> & <chr>\\\\\n",
       "\\hline\n",
       "\t 2009 & 17.5 & 5.9 & 4.4\\\\\n",
       "\t 2010 & 18.6 & 5.8 & 3.9\\\\\n",
       "\t 2011 & 14.7 & 5.3 & 3.4\\\\\n",
       "\t 2012 & 22.9 & 6.9 & 4  \\\\\n",
       "\t 2013 & 24   & 8.5 & 4.3\\\\\n",
       "\t 2014 & 23.8 & 7.7 & 4.3\\\\\n",
       "\t 2015 & 30.1 & 6.7 & 5.4\\\\\n",
       "\t 2016 & 25.3 & 6.6 & 4.5\\\\\n",
       "\t 2017 & 26.4 & 6.1 & 5.1\\\\\n",
       "\t 2018 & 27.3 & 5.2 & 5.3\\\\\n",
       "\t 2019 & 20.8 & 6.6 & 5.2\\\\\n",
       "\t 2020 & 32   & 5.8 & 5.5\\\\\n",
       "\t 2021 & 25.5 & 6.3 & 5.2\\\\\n",
       "\t 2022 & 29.4 & 6.3 & 6.2\\\\\n",
       "\\end{tabular}\n"
      ],
      "text/markdown": [
       "\n",
       "A data.frame: 14 × 4\n",
       "\n",
       "| Season &lt;chr&gt; | PTS &lt;chr&gt; | AST &lt;chr&gt; | REB &lt;chr&gt; |\n",
       "|---|---|---|---|\n",
       "| 2009 | 17.5 | 5.9 | 4.4 |\n",
       "| 2010 | 18.6 | 5.8 | 3.9 |\n",
       "| 2011 | 14.7 | 5.3 | 3.4 |\n",
       "| 2012 | 22.9 | 6.9 | 4   |\n",
       "| 2013 | 24   | 8.5 | 4.3 |\n",
       "| 2014 | 23.8 | 7.7 | 4.3 |\n",
       "| 2015 | 30.1 | 6.7 | 5.4 |\n",
       "| 2016 | 25.3 | 6.6 | 4.5 |\n",
       "| 2017 | 26.4 | 6.1 | 5.1 |\n",
       "| 2018 | 27.3 | 5.2 | 5.3 |\n",
       "| 2019 | 20.8 | 6.6 | 5.2 |\n",
       "| 2020 | 32   | 5.8 | 5.5 |\n",
       "| 2021 | 25.5 | 6.3 | 5.2 |\n",
       "| 2022 | 29.4 | 6.3 | 6.2 |\n",
       "\n"
      ],
      "text/plain": [
       "   Season PTS  AST REB\n",
       "1  2009   17.5 5.9 4.4\n",
       "2  2010   18.6 5.8 3.9\n",
       "3  2011   14.7 5.3 3.4\n",
       "4  2012   22.9 6.9 4  \n",
       "5  2013   24   8.5 4.3\n",
       "6  2014   23.8 7.7 4.3\n",
       "7  2015   30.1 6.7 5.4\n",
       "8  2016   25.3 6.6 4.5\n",
       "9  2017   26.4 6.1 5.1\n",
       "10 2018   27.3 5.2 5.3\n",
       "11 2019   20.8 6.6 5.2\n",
       "12 2020   32   5.8 5.5\n",
       "13 2021   25.5 6.3 5.2\n",
       "14 2022   29.4 6.3 6.2"
      ]
     },
     "metadata": {},
     "output_type": "display_data"
    }
   ],
   "source": [
    "commonstats"
   ]
  },
  {
   "cell_type": "code",
   "execution_count": 11,
   "id": "358fbbe7",
   "metadata": {},
   "outputs": [],
   "source": [
    "mCommonstats <- melt(commonstats, 'Season')\n",
    "mCommonstats$value <- as.numeric(mCommonstats$value)"
   ]
  },
  {
   "cell_type": "code",
   "execution_count": 13,
   "id": "1fd02dbc",
   "metadata": {},
   "outputs": [
    {
     "data": {
      "image/png": "[encoded data removed]",
      "text/plain": [
       "plot without title"
      ]
     },
     "metadata": {
      "image/png": {
       "height": 480,
       "width": 720
      }
     },
     "output_type": "display_data"
    }
   ],
   "source": [
    "common_lc <-  ggplot(mCommonstats, aes(x=Season, y=value, group=variable, color=variable)) + \n",
    "            geom_line(size=2) + \n",
    "            geom_point(size=7) +\n",
    "            scale_y_continuous(limits = c(0,35), breaks=seq(0,35,5))\n",
    "common_lc <- common_lc + theme(axis.text.x = element_text(angle=45, vjust=1, hjust=1), text=element_text(size=20))\n",
    "common_lc"
   ]
  },
  {
   "cell_type": "code",
   "execution_count": 14,
   "id": "3bfdf5c7",
   "metadata": {},
   "outputs": [],
   "source": [
    "percentstats <- data.frame(matrix(ncol=4, nrow=14))\n",
    "colnames(percentstats) <- c('Season', 'FG%', '3P%', 'FT%')"
   ]
  },
  {
   "cell_type": "code",
   "execution_count": 15,
   "id": "d125377a",
   "metadata": {},
   "outputs": [],
   "source": [
    "for (x in 1:14){\n",
    "    query <- paste('SELECT SUM(\"FGM\")/SUM(\"FGA\"), SUM(\"FG3M\")/SUM(\"FG3A\"), SUM(\"FTM\")/SUM(\"FTA\") FROM', tables[x])\n",
    "    percent <- dbGetQuery(con, query)\n",
    "    percentstats[x,] <- c(str_sub(tables[x], -4, -1),\n",
    "                         round(percent[[1]], digits=3),\n",
    "                         round(percent[[2]], digits=3),\n",
    "                         round(percent[[3]], digits=3))\n",
    "}"
   ]
  },
  {
   "cell_type": "code",
   "execution_count": 16,
   "id": "beb0b393",
   "metadata": {},
   "outputs": [
    {
     "data": {
      "text/html": [
       "<table class=\"dataframe\">\n",
       "<caption>A data.frame: 14 × 4</caption>\n",
       "<thead>\n",
       "\t<tr><th scope=col>Season</th><th scope=col>FG%</th><th scope=col>3P%</th><th scope=col>FT%</th></tr>\n",
       "\t<tr><th scope=col>&lt;chr&gt;</th><th scope=col>&lt;chr&gt;</th><th scope=col>&lt;chr&gt;</th><th scope=col>&lt;chr&gt;</th></tr>\n",
       "</thead>\n",
       "<tbody>\n",
       "\t<tr><td>2009</td><td>0.462</td><td>0.437</td><td>0.885</td></tr>\n",
       "\t<tr><td>2010</td><td>0.48 </td><td>0.442</td><td>0.934</td></tr>\n",
       "\t<tr><td>2011</td><td>0.49 </td><td>0.455</td><td>0.809</td></tr>\n",
       "\t<tr><td>2012</td><td>0.451</td><td>0.453</td><td>0.9  </td></tr>\n",
       "\t<tr><td>2013</td><td>0.471</td><td>0.424</td><td>0.885</td></tr>\n",
       "\t<tr><td>2014</td><td>0.487</td><td>0.443</td><td>0.914</td></tr>\n",
       "\t<tr><td>2015</td><td>0.504</td><td>0.454</td><td>0.907</td></tr>\n",
       "\t<tr><td>2016</td><td>0.468</td><td>0.411</td><td>0.898</td></tr>\n",
       "\t<tr><td>2017</td><td>0.495</td><td>0.423</td><td>0.921</td></tr>\n",
       "\t<tr><td>2018</td><td>0.472</td><td>0.437</td><td>0.916</td></tr>\n",
       "\t<tr><td>2019</td><td>0.402</td><td>0.245</td><td>1    </td></tr>\n",
       "\t<tr><td>2020</td><td>0.482</td><td>0.421</td><td>0.916</td></tr>\n",
       "\t<tr><td>2021</td><td>0.437</td><td>0.38 </td><td>0.923</td></tr>\n",
       "\t<tr><td>2022</td><td>0.496</td><td>0.425</td><td>0.913</td></tr>\n",
       "</tbody>\n",
       "</table>\n"
      ],
      "text/latex": [
       "A data.frame: 14 × 4\n",
       "\\begin{tabular}{llll}\n",
       " Season & FG\\% & 3P\\% & FT\\%\\\\\n",
       " <chr> & <chr> & <chr> & <chr>\\\\\n",
       "\\hline\n",
       "\t 2009 & 0.462 & 0.437 & 0.885\\\\\n",
       "\t 2010 & 0.48  & 0.442 & 0.934\\\\\n",
       "\t 2011 & 0.49  & 0.455 & 0.809\\\\\n",
       "\t 2012 & 0.451 & 0.453 & 0.9  \\\\\n",
       "\t 2013 & 0.471 & 0.424 & 0.885\\\\\n",
       "\t 2014 & 0.487 & 0.443 & 0.914\\\\\n",
       "\t 2015 & 0.504 & 0.454 & 0.907\\\\\n",
       "\t 2016 & 0.468 & 0.411 & 0.898\\\\\n",
       "\t 2017 & 0.495 & 0.423 & 0.921\\\\\n",
       "\t 2018 & 0.472 & 0.437 & 0.916\\\\\n",
       "\t 2019 & 0.402 & 0.245 & 1    \\\\\n",
       "\t 2020 & 0.482 & 0.421 & 0.916\\\\\n",
       "\t 2021 & 0.437 & 0.38  & 0.923\\\\\n",
       "\t 2022 & 0.496 & 0.425 & 0.913\\\\\n",
       "\\end{tabular}\n"
      ],
      "text/markdown": [
       "\n",
       "A data.frame: 14 × 4\n",
       "\n",
       "| Season &lt;chr&gt; | FG% &lt;chr&gt; | 3P% &lt;chr&gt; | FT% &lt;chr&gt; |\n",
       "|---|---|---|---|\n",
       "| 2009 | 0.462 | 0.437 | 0.885 |\n",
       "| 2010 | 0.48  | 0.442 | 0.934 |\n",
       "| 2011 | 0.49  | 0.455 | 0.809 |\n",
       "| 2012 | 0.451 | 0.453 | 0.9   |\n",
       "| 2013 | 0.471 | 0.424 | 0.885 |\n",
       "| 2014 | 0.487 | 0.443 | 0.914 |\n",
       "| 2015 | 0.504 | 0.454 | 0.907 |\n",
       "| 2016 | 0.468 | 0.411 | 0.898 |\n",
       "| 2017 | 0.495 | 0.423 | 0.921 |\n",
       "| 2018 | 0.472 | 0.437 | 0.916 |\n",
       "| 2019 | 0.402 | 0.245 | 1     |\n",
       "| 2020 | 0.482 | 0.421 | 0.916 |\n",
       "| 2021 | 0.437 | 0.38  | 0.923 |\n",
       "| 2022 | 0.496 | 0.425 | 0.913 |\n",
       "\n"
      ],
      "text/plain": [
       "   Season FG%   3P%   FT%  \n",
       "1  2009   0.462 0.437 0.885\n",
       "2  2010   0.48  0.442 0.934\n",
       "3  2011   0.49  0.455 0.809\n",
       "4  2012   0.451 0.453 0.9  \n",
       "5  2013   0.471 0.424 0.885\n",
       "6  2014   0.487 0.443 0.914\n",
       "7  2015   0.504 0.454 0.907\n",
       "8  2016   0.468 0.411 0.898\n",
       "9  2017   0.495 0.423 0.921\n",
       "10 2018   0.472 0.437 0.916\n",
       "11 2019   0.402 0.245 1    \n",
       "12 2020   0.482 0.421 0.916\n",
       "13 2021   0.437 0.38  0.923\n",
       "14 2022   0.496 0.425 0.913"
      ]
     },
     "metadata": {},
     "output_type": "display_data"
    }
   ],
   "source": [
    "percentstats"
   ]
  },
  {
   "cell_type": "code",
   "execution_count": 17,
   "id": "5df08611",
   "metadata": {},
   "outputs": [],
   "source": [
    "mPercentstats <- melt(percentstats, 'Season')\n",
    "mPercentstats$value <- as.numeric(mPercentstats$value)"
   ]
  },
  {
   "cell_type": "code",
   "execution_count": 18,
   "id": "f7efd276",
   "metadata": {},
   "outputs": [
    {
     "data": {
      "image/png": "[encoded data removed]",
      "text/plain": [
       "plot without title"
      ]
     },
     "metadata": {
      "image/png": {
       "height": 480,
       "width": 720
      }
     },
     "output_type": "display_data"
    }
   ],
   "source": [
    "percent_lc <- ggplot(mPercentstats, aes(x=Season, y=value, group=variable, color=variable)) + \n",
    "            geom_line(size=2) + \n",
    "            geom_point(size=7) +\n",
    "            scale_y_continuous(limits = c(0,1), breaks=seq(0,1,0.1), labels=scales::percent)\n",
    "percent_lc <- percent_lc + theme(axis.text.x = element_text(angle=45, vjust=1, hjust=1), text=element_text(size=20))\n",
    "percent_lc"
   ]
  },
  {
   "cell_type": "markdown",
   "id": "58732411",
   "metadata": {},
   "source": [
    "#### Observation:\n",
    "* Curry increased his average `PTS` per season except the two years where he was injured and a spike increase during his unanimous MVP season\n",
    "* Curry's `AST` average began to continually decrease after the 2013-2014 season\n",
    "* Curry's averaged the most `PTS` and `REB` in the 2020-2021 regular season, and the most `AST` in the 2013-2014 regular season\n",
    "* Curry has the best shooting split with 50.4/45.4/90.8 (`FG%`/`3P%`/`FT%`) in the 2015-2016 regular season putting him the 50/40/90 club\n",
    "\n",
    "### Comparing Regular Seasons\n",
    "Let's look at Curry top 4 best seasons and compare it with his unanimous MVP season `2015-2016` season."
   ]
  },
  {
   "cell_type": "code",
   "execution_count": 19,
   "id": "431d22f7",
   "metadata": {},
   "outputs": [],
   "source": [
    "comCompare <- commonstats[commonstats$Season != '2015',]\n",
    "comCompare <- tail(comCompare[order(comCompare$PTS),], 4)\n",
    "comCompare[nrow(comCompare) + 1,] <- commonstats[commonstats$Season == '2015',]"
   ]
  },
  {
   "cell_type": "code",
   "execution_count": 20,
   "id": "fa8b5ddc",
   "metadata": {},
   "outputs": [
    {
     "data": {
      "text/html": [
       "<table class=\"dataframe\">\n",
       "<caption>A data.frame: 5 × 4</caption>\n",
       "<thead>\n",
       "\t<tr><th></th><th scope=col>Season</th><th scope=col>PTS</th><th scope=col>AST</th><th scope=col>REB</th></tr>\n",
       "\t<tr><th></th><th scope=col>&lt;chr&gt;</th><th scope=col>&lt;chr&gt;</th><th scope=col>&lt;chr&gt;</th><th scope=col>&lt;chr&gt;</th></tr>\n",
       "</thead>\n",
       "<tbody>\n",
       "\t<tr><th scope=row>9</th><td>2017</td><td>26.4</td><td>6.1</td><td>5.1</td></tr>\n",
       "\t<tr><th scope=row>10</th><td>2018</td><td>27.3</td><td>5.2</td><td>5.3</td></tr>\n",
       "\t<tr><th scope=row>14</th><td>2022</td><td>29.4</td><td>6.3</td><td>6.2</td></tr>\n",
       "\t<tr><th scope=row>12</th><td>2020</td><td>32  </td><td>5.8</td><td>5.5</td></tr>\n",
       "\t<tr><th scope=row>7</th><td>2015</td><td>30.1</td><td>6.7</td><td>5.4</td></tr>\n",
       "</tbody>\n",
       "</table>\n"
      ],
      "text/latex": [
       "A data.frame: 5 × 4\n",
       "\\begin{tabular}{r|llll}\n",
       "  & Season & PTS & AST & REB\\\\\n",
       "  & <chr> & <chr> & <chr> & <chr>\\\\\n",
       "\\hline\n",
       "\t9 & 2017 & 26.4 & 6.1 & 5.1\\\\\n",
       "\t10 & 2018 & 27.3 & 5.2 & 5.3\\\\\n",
       "\t14 & 2022 & 29.4 & 6.3 & 6.2\\\\\n",
       "\t12 & 2020 & 32   & 5.8 & 5.5\\\\\n",
       "\t7 & 2015 & 30.1 & 6.7 & 5.4\\\\\n",
       "\\end{tabular}\n"
      ],
      "text/markdown": [
       "\n",
       "A data.frame: 5 × 4\n",
       "\n",
       "| <!--/--> | Season &lt;chr&gt; | PTS &lt;chr&gt; | AST &lt;chr&gt; | REB &lt;chr&gt; |\n",
       "|---|---|---|---|---|\n",
       "| 9 | 2017 | 26.4 | 6.1 | 5.1 |\n",
       "| 10 | 2018 | 27.3 | 5.2 | 5.3 |\n",
       "| 14 | 2022 | 29.4 | 6.3 | 6.2 |\n",
       "| 12 | 2020 | 32   | 5.8 | 5.5 |\n",
       "| 7 | 2015 | 30.1 | 6.7 | 5.4 |\n",
       "\n"
      ],
      "text/plain": [
       "   Season PTS  AST REB\n",
       "9  2017   26.4 6.1 5.1\n",
       "10 2018   27.3 5.2 5.3\n",
       "14 2022   29.4 6.3 6.2\n",
       "12 2020   32   5.8 5.5\n",
       "7  2015   30.1 6.7 5.4"
      ]
     },
     "metadata": {},
     "output_type": "display_data"
    }
   ],
   "source": [
    "comCompare"
   ]
  },
  {
   "cell_type": "code",
   "execution_count": 21,
   "id": "5f8bfd3e",
   "metadata": {},
   "outputs": [],
   "source": [
    "mcCompare <- melt(comCompare, 'Season')\n",
    "mcCompare$value <- as.numeric(mcCompare$value)\n",
    "mcCompare <- transform(mcCompare, MVP=ifelse(Season=='2015', 'Y', 'N'))"
   ]
  },
  {
   "cell_type": "code",
   "execution_count": 22,
   "id": "9d0a4679",
   "metadata": {},
   "outputs": [
    {
     "data": {
      "image/png": "[encoded data removed]",
      "text/plain": [
       "plot without title"
      ]
     },
     "metadata": {
      "image/png": {
       "height": 480,
       "width": 720
      }
     },
     "output_type": "display_data"
    }
   ],
   "source": [
    "comPlot <- ggplot(mcCompare, aes(x=Season, y=value, fill=MVP)) +\n",
    "            geom_bar(stat='identity', position='dodge') +\n",
    "            scale_y_continuous(limits = c(0,35), breaks=seq(0,35,5)) + facet_grid(~ variable) +\n",
    "            theme(text=element_text(size=20))\n",
    "comPlot"
   ]
  },
  {
   "cell_type": "code",
   "execution_count": 23,
   "id": "b8b48d0e",
   "metadata": {},
   "outputs": [
    {
     "data": {
      "text/html": [
       "<table class=\"dataframe\">\n",
       "<caption>A data.frame: 5 × 4</caption>\n",
       "<thead>\n",
       "\t<tr><th></th><th scope=col>Season</th><th scope=col>FG%</th><th scope=col>3P%</th><th scope=col>FT%</th></tr>\n",
       "\t<tr><th></th><th scope=col>&lt;chr&gt;</th><th scope=col>&lt;chr&gt;</th><th scope=col>&lt;chr&gt;</th><th scope=col>&lt;chr&gt;</th></tr>\n",
       "</thead>\n",
       "<tbody>\n",
       "\t<tr><th scope=row>7</th><td>2015</td><td>0.504</td><td>0.454</td><td>0.907</td></tr>\n",
       "\t<tr><th scope=row>9</th><td>2017</td><td>0.495</td><td>0.423</td><td>0.921</td></tr>\n",
       "\t<tr><th scope=row>10</th><td>2018</td><td>0.472</td><td>0.437</td><td>0.916</td></tr>\n",
       "\t<tr><th scope=row>12</th><td>2020</td><td>0.482</td><td>0.421</td><td>0.916</td></tr>\n",
       "\t<tr><th scope=row>14</th><td>2022</td><td>0.496</td><td>0.425</td><td>0.913</td></tr>\n",
       "</tbody>\n",
       "</table>\n"
      ],
      "text/latex": [
       "A data.frame: 5 × 4\n",
       "\\begin{tabular}{r|llll}\n",
       "  & Season & FG\\% & 3P\\% & FT\\%\\\\\n",
       "  & <chr> & <chr> & <chr> & <chr>\\\\\n",
       "\\hline\n",
       "\t7 & 2015 & 0.504 & 0.454 & 0.907\\\\\n",
       "\t9 & 2017 & 0.495 & 0.423 & 0.921\\\\\n",
       "\t10 & 2018 & 0.472 & 0.437 & 0.916\\\\\n",
       "\t12 & 2020 & 0.482 & 0.421 & 0.916\\\\\n",
       "\t14 & 2022 & 0.496 & 0.425 & 0.913\\\\\n",
       "\\end{tabular}\n"
      ],
      "text/markdown": [
       "\n",
       "A data.frame: 5 × 4\n",
       "\n",
       "| <!--/--> | Season &lt;chr&gt; | FG% &lt;chr&gt; | 3P% &lt;chr&gt; | FT% &lt;chr&gt; |\n",
       "|---|---|---|---|---|\n",
       "| 7 | 2015 | 0.504 | 0.454 | 0.907 |\n",
       "| 9 | 2017 | 0.495 | 0.423 | 0.921 |\n",
       "| 10 | 2018 | 0.472 | 0.437 | 0.916 |\n",
       "| 12 | 2020 | 0.482 | 0.421 | 0.916 |\n",
       "| 14 | 2022 | 0.496 | 0.425 | 0.913 |\n",
       "\n"
      ],
      "text/plain": [
       "   Season FG%   3P%   FT%  \n",
       "7  2015   0.504 0.454 0.907\n",
       "9  2017   0.495 0.423 0.921\n",
       "10 2018   0.472 0.437 0.916\n",
       "12 2020   0.482 0.421 0.916\n",
       "14 2022   0.496 0.425 0.913"
      ]
     },
     "metadata": {},
     "output_type": "display_data"
    }
   ],
   "source": [
    "perCompare <- percentstats[percentstats$Season %in% comCompare$Season,]\n",
    "perCompare"
   ]
  },
  {
   "cell_type": "code",
   "execution_count": 24,
   "id": "04b0a0b9",
   "metadata": {},
   "outputs": [],
   "source": [
    "mpCompare <- melt(perCompare, 'Season')\n",
    "mpCompare$value <- as.numeric(mpCompare$value)\n",
    "mpCompare <- transform(mpCompare, MVP=ifelse(Season=='2015', 'Y', 'N'))"
   ]
  },
  {
   "cell_type": "code",
   "execution_count": 25,
   "id": "7a54b8f2",
   "metadata": {},
   "outputs": [
    {
     "data": {
      "image/png": "[encoded data removed]",
      "text/plain": [
       "plot without title"
      ]
     },
     "metadata": {
      "image/png": {
       "height": 480,
       "width": 720
      }
     },
     "output_type": "display_data"
    }
   ],
   "source": [
    "perPlot <- ggplot(mpCompare, aes(x=Season, y=value, fill=MVP)) +\n",
    "            geom_bar(stat='identity', position='dodge') +\n",
    "            scale_y_continuous(limits = c(0,1), breaks=seq(0,1,.1), labels=scales::percent) + facet_grid(~ variable) +\n",
    "            theme(text=element_text(size=20))\n",
    "perPlot"
   ]
  },
  {
   "cell_type": "markdown",
   "id": "7653bfbd",
   "metadata": {},
   "source": [
    "### Hypothesis Testing\n",
    "\n",
    "We will be calculating a new column called `TS%` and perform a t.test to see if it is statistically significant.\n",
    "   * `TS%` = `PTS` / (2 x `TSA`)\n",
    "   * `TSA` = `FGA` + (0.44 x `FTA`)\n",
    "\n",
    "`TS%` is the true shooting percentage that measures efficiency that takes into account field goals, 3-point field goals, and free throws. <br/>\n",
    "`TSA` is the true shooting attempts"
   ]
  },
  {
   "cell_type": "code",
   "execution_count": 26,
   "id": "070bb839",
   "metadata": {},
   "outputs": [],
   "source": [
    "mvp <- dbGetQuery(con, 'SELECT \"SEASON_ID\",\"PTS\", \"FGA\", \"FTA\" FROM season_2015')\n",
    "mvp$TS <- eval(parse(text='PTS/(2 * (FGA + (0.44 * FTA)))'), mvp)\n",
    "mvp_ts <- mean(mvp$TS)"
   ]
  },
  {
   "cell_type": "code",
   "execution_count": 27,
   "id": "43fd0191",
   "metadata": {},
   "outputs": [
    {
     "data": {
      "text/html": [
       "0.743840079178423"
      ],
      "text/latex": [
       "0.743840079178423"
      ],
      "text/markdown": [
       "0.743840079178423"
      ],
      "text/plain": [
       "[1] 0.7438401"
      ]
     },
     "metadata": {},
     "output_type": "display_data"
    }
   ],
   "source": [
    "mvp_ts"
   ]
  },
  {
   "cell_type": "code",
   "execution_count": 28,
   "id": "85a2c947",
   "metadata": {},
   "outputs": [
    {
     "name": "stdout",
     "output_type": "stream",
     "text": [
      "P-value with 2017 season: 0.8981993 \n",
      "P-value with 2018 season: 0.08298097 \n",
      "P-value with 2020 season: 0.403251 \n",
      "P-value with 2022 season: 0.3307947 \n"
     ]
    }
   ],
   "source": [
    "bestTables <- list('season_2017', 'season_2018', 'season_2020', 'season_2022')\n",
    "for (x in bestTables){\n",
    "    query <- paste('SELECT \"SEASON_ID\",\"PTS\", \"FGA\", \"FTA\" FROM', x)\n",
    "    games <- dbGetQuery(con, query)\n",
    "    \n",
    "    games$TS <- eval(parse(text='PTS/(2 * (FGA + (0.44 * FTA)))'), games)\n",
    "    games <- rbind(games, mvp)\n",
    "    \n",
    "    var <- if(var.test(TS ~ SEASON_ID, data=games)$p.value > 0.05) TRUE else FALSE\n",
    "    p_value <- t.test(TS ~ SEASON_ID, data=games, alternative='greater', var.equal=var, conf.level=0.95)$p.value\n",
    "    cat('P-value with', str_sub(x, -4, -1), 'season:', p_value, '\\n')\n",
    "}"
   ]
  },
  {
   "cell_type": "code",
   "execution_count": 29,
   "id": "59b0e14d",
   "metadata": {},
   "outputs": [],
   "source": [
    "dbDisconnect(con)"
   ]
  },
  {
   "cell_type": "markdown",
   "id": "87ab68ba",
   "metadata": {},
   "source": [
    "### Conclusion\n",
    "Based on our `TS%` metric, none of p-values from our multiple tests was less than the significance level alpha = 0.05. Therefore, we cannot conclude that Stephen Curry's MVP Season is significantly greater than his other top performing seasons. "
   ]
  },
  {
   "cell_type": "code",
   "execution_count": null,
   "id": "e264148d",
   "metadata": {},
   "outputs": [],
   "source": []
  }
 ],
 "metadata": {
  "kernelspec": {
   "display_name": "R",
   "language": "R",
   "name": "ir"
  },
  "language_info": {
   "codemirror_mode": "r",
   "file_extension": ".r",
   "mimetype": "text/x-r-source",
   "name": "R",
   "pygments_lexer": "r",
   "version": "4.1.3"
  }
 },
 "nbformat": 4,
 "nbformat_minor": 5
}
